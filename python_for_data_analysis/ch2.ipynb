{
 "cells": [
  {
   "cell_type": "code",
   "execution_count": null,
   "id": "e251e92c",
   "metadata": {},
   "outputs": [
    {
     "name": "stdout",
     "output_type": "stream",
     "text": [
      "True\n",
      "[1, 2, 3, 4]\n",
      "[1, 2, 3]\n",
      "False\n"
     ]
    },
    {
     "data": {
      "text/plain": [
       "True"
      ]
     },
     "execution_count": 23,
     "metadata": {},
     "output_type": "execute_result"
    }
   ],
   "source": [
    "a = [1, 2, 3]\n",
    "b = a\n",
    "b1 = a.copy()\n",
    "a.append(4)\n",
    "\n",
    "print(a is b)\n",
    "print(b)#赋值-变量绑定，a和b实际引用同一变量\n",
    "print(b1)\n",
    "\n",
    "e = [1,2,3]\n",
    "f = list(e)#函数是复制一个对象\n",
    "print(e is f)\n",
    "#检查\n",
    "c = 5\n",
    "d = 3.2\n",
    "isinstance(c,(int, float))\n",
    "isinstance(d,(int, float))#检查对象是否在元组里"
   ]
  },
  {
   "cell_type": "code",
   "execution_count": 18,
   "id": "276d61f9",
   "metadata": {},
   "outputs": [
    {
     "name": "stdout",
     "output_type": "stream",
     "text": [
      "18.849539999999998\n",
      "3.14159\n",
      "5\n"
     ]
    }
   ],
   "source": [
    "#属性和方法\n",
    "a = \"foo\"\n",
    "getattr(a, \"split\")\n",
    "#鸭子类型再次学习\n",
    "def isiterable(obj):\n",
    "    try:\n",
    "        iter(obj)\n",
    "        return True\n",
    "    except TypeError:\n",
    "        return False\n",
    "isiterable(\"a string\")\n",
    "isiterable(1)\n",
    "#模块\n",
    "import some_module\n",
    "results = some_module.f(3)\n",
    "print(results)\n",
    "\n",
    "import some_module as some_d\n",
    "results = some_d.PI\n",
    "print(results)\n",
    "\n",
    "from some_module import f1\n",
    "print(f1(2, 3))"
   ]
  },
  {
   "cell_type": "code",
   "execution_count": null,
   "id": "f81c6d6f",
   "metadata": {},
   "outputs": [
    {
     "name": "stdout",
     "output_type": "stream",
     "text": [
      "ting\n",
      "bu\n",
      "jian\n",
      "\n",
      "12\\3\n"
     ]
    }
   ],
   "source": [
    "#标量类型\n",
    "## None, str, bytes, float, int\n",
    "\n",
    "#字符串\n",
    "##换行多行\n",
    "a = '''ting\n",
    "bu\n",
    "jian\n",
    "'''\n",
    "print(a)\n",
    "a.count(\"\\n\")#统计换行符\n",
    "b = a.replace(\"ting\",\"fish\")#修改需要函数或方法创建新字符串，原a没变\n",
    "b\n",
    "c='12\\\\3'#\\是转义\n",
    "c1 = r'12\\3'#前缀r表明是原生字符串\n",
    "print(c1)"
   ]
  },
  {
   "cell_type": "code",
   "execution_count": 35,
   "id": "01c437b4",
   "metadata": {},
   "outputs": [
    {
     "data": {
      "text/plain": [
       "'espanol'"
      ]
     },
     "execution_count": 35,
     "metadata": {},
     "output_type": "execute_result"
    }
   ],
   "source": [
    "#字节和Unicode\n",
    "val = \"espanol\"\n",
    "val_utf8 = val.encode(\"utf-8\")\n",
    "val_utf8\n",
    "type(val_utf8)\n",
    "val_utf8.decode(\"utf-8\")"
   ]
  },
  {
   "cell_type": "code",
   "execution_count": 41,
   "id": "dcc41344",
   "metadata": {},
   "outputs": [
    {
     "name": "stdout",
     "output_type": "stream",
     "text": [
      "True\n",
      "True\n",
      "5\n",
      "15\n"
     ]
    }
   ],
   "source": [
    "#布尔值\n",
    "print(True and True)\n",
    "print(False or True)\n",
    "\n",
    "int(True)#1\n",
    "int(False)#0\n",
    "not True\n",
    "\n",
    "#None是空值，也常作为函数参数默认值\n",
    "def add(a, b, c =None):\n",
    "    results = a + b\n",
    "    if c is not None:\n",
    "        results = results * c\n",
    "    return results\n",
    "print(add(2,3))\n",
    "print(add(2,3,3))"
   ]
  },
  {
   "cell_type": "code",
   "execution_count": null,
   "id": "0c608b98",
   "metadata": {},
   "outputs": [
    {
     "data": {
      "text/plain": [
       "datetime.datetime(2025, 9, 30, 15, 33, 45)"
      ]
     },
     "execution_count": 57,
     "metadata": {},
     "output_type": "execute_result"
    }
   ],
   "source": [
    "#日期和时间，内置模块datetime\n",
    "from datetime import datetime, date, time\n",
    "dt = datetime(2025, 9, 24, 23, 10, 45)\n",
    "dt.minute\n",
    "dt.year\n",
    "dt.date()#提取date对象，年月日\n",
    "dt.time()#提取time对象，时分秒\n",
    "\n",
    "#格式化字符串\n",
    "dt.strftime(\"%Y-%m-%d %H:%M:%S\")\n",
    "#字符串转datetime对象\n",
    "datetime.strptime(\"20251025\",\"%Y%m%d\")\n",
    "\n",
    "dt_hour = dt.replace(minute=0, second= 0)#datetime是不可变对象，方法产生新对象\n",
    "dt2 = datetime(2025, 9, 30, 15, 33, 45)\n",
    "delta = dt2 - dt\n",
    "delta#偏移量为d天，s秒\n",
    "dt + delta "
   ]
  }
 ],
 "metadata": {
  "kernelspec": {
   "display_name": "base",
   "language": "python",
   "name": "python3"
  },
  "language_info": {
   "codemirror_mode": {
    "name": "ipython",
    "version": 3
   },
   "file_extension": ".py",
   "mimetype": "text/x-python",
   "name": "python",
   "nbconvert_exporter": "python",
   "pygments_lexer": "ipython3",
   "version": "3.12.4"
  }
 },
 "nbformat": 4,
 "nbformat_minor": 5
}
