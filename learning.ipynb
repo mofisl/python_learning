{
 "cells": [
  {
   "cell_type": "markdown",
   "id": "41a81aeb",
   "metadata": {},
   "source": [
    "小甲鱼python学习"
   ]
  },
  {
   "cell_type": "markdown",
   "id": "a53dd519",
   "metadata": {},
   "source": [
    "1、设计一个小游戏\n",
    "BIF == Bulit-in function内置函数\n",
    "dir(__bulitins__)#显示小写为BIF\n",
    "help(print)#类似R ?print"
   ]
  },
  {
   "cell_type": "code",
   "execution_count": null,
   "id": "175add25",
   "metadata": {},
   "outputs": [
    {
     "name": "stdout",
     "output_type": "stream",
     "text": [
      "---小甲鱼游戏---\n"
     ]
    }
   ],
   "source": [
    "#1#不能在这里输入\n",
    "print('---小甲鱼游戏---')\n",
    "temp=input('猜猜想的哪个数:')\n",
    "guess=int(temp)\n",
    "if guess ==8 :\n",
    "    print('牛')#缩进很重要\n",
    "else:\n",
    "    print('错误')\n",
    "print('end')"
   ]
  },
  {
   "cell_type": "markdown",
   "id": "cfda4a4c",
   "metadata": {},
   "source": [
    "2、小插曲变量和字符串\n",
    "变量：赋值给一个变量。使用之前先赋值\n",
    "字符串：''或\"\"引号内的一切\n",
    "原始字符串\n",
    "长字符串"
   ]
  },
  {
   "cell_type": "code",
   "execution_count": null,
   "id": "c56e9061",
   "metadata": {},
   "outputs": [
    {
     "name": "stdout",
     "output_type": "stream",
     "text": [
      "xiaojy\n",
      "11\n",
      "xjyhehe\n",
      "let's go\n",
      "C:\\DATA\\DA\\\\\n",
      "let\n",
      "go,\n",
      "ting,\n",
      "nice\n"
     ]
    }
   ],
   "source": [
    "teacher='xiaojy'\n",
    "print(teacher)\n",
    "first=3\n",
    "second=8\n",
    "third=first+second\n",
    "print(third)\n",
    "mytea='xjy'\n",
    "yourtea='hehe'\n",
    "our=mytea+yourtea#字符串拼接\n",
    "print(our)\n",
    "#引号\n",
    "hehe='let\\'s go' #或者hehe=\"let's go\"\n",
    "print(hehe)\n",
    "#反斜杠\\\n",
    "fxg='C:\\\\DATA'\n",
    "fxg1=r'C:\\DATA\\DA'\n",
    "fxg2=r'C:\\DATA\\DA\\\\'#不能有末尾不能有一个反斜杠\n",
    "print(fxg2)\n",
    "#长字符串\n",
    "shige=\"\"\"let\n",
    "go,\n",
    "ting,\n",
    "nice\"\"\"\n",
    "print(shige)"
   ]
  },
  {
   "cell_type": "code",
   "execution_count": null,
   "id": "efb8971d",
   "metadata": {},
   "outputs": [
    {
     "name": "stdout",
     "output_type": "stream",
     "text": [
      "65\n",
      "A\n",
      "b'ABC'\n",
      "b'\\xe4\\xb8\\xad\\xe6\\x96\\x87'\n",
      "ABC\n",
      "中文\n",
      "3\n",
      "2\n",
      "3\n",
      "6\n"
     ]
    }
   ],
   "source": [
    "#编码，Unicode字符集应运而生。Unicode把所有语言都统一到一套编码里\n",
    "#ord()函数获取字符的整数表示，chr()函数把编码转换为对应的字符\n",
    "print(ord('A'))\n",
    "print(chr(65))\n",
    "#Python的字符串类型是str，在内存中以Unicode表示，一个字符对应若干个字节。\n",
    "#如果要在网络上传输，或者保存到磁盘上，就需要把str变为以字节为单位的bytes\n",
    "X=b'ABC'\n",
    "print('ABC'.encode('ascii'))#encode编码\n",
    "print('中文'.encode('utf-8'))#ascii英文，utf-8含有中文也行\n",
    "print(b'ABC'.decode('ascii'))#解码\n",
    "print(b'\\xe4\\xb8\\xad\\xe6\\x96\\x87'.decode('utf-8'))#解码\n",
    "print(len('ABC'))\n",
    "print(len('中文'))#字符数\n",
    "print(len(b'ABC'))\n",
    "print(len(b'\\xe4\\xb8\\xad\\xe6\\x96\\x87'))#字节数\n"
   ]
  },
  {
   "cell_type": "markdown",
   "id": "090b24b0",
   "metadata": {},
   "source": [
    "改进小游戏\n",
    "条件分支\n",
    "while循环\n",
    "random module\n",
    "逻辑操作符有个有趣的特性：在不需要求值的时候不进行操作。这么说可能比较“高深”，举个例子，表达式 x and y，需要 x 和 y 两个变量同时为真(True)的时候，结果才为真。因此，如果当 x 变量得知是假(False)的时候，表达式就会立刻返回 False，而不用去管 y 变量的值。\n",
    "\n",
    "这种行为被称为短路逻辑（short-circuit logic）或者惰性求值（lazy evaluation），这种行为同样也应用与 or 操作符"
   ]
  },
  {
   "cell_type": "code",
   "execution_count": null,
   "id": "af81f1a2",
   "metadata": {},
   "outputs": [
    {
     "name": "stdout",
     "output_type": "stream",
     "text": [
      "7\n",
      "C!\n",
      "C!\n",
      "C!\n",
      "C!\n",
      "C!\n",
      "C!\n",
      "C!\n",
      "C!\n",
      "C!\n",
      "C!\n",
      "I love fishc\n",
      "very much!\n"
     ]
    },
    {
     "data": {
      "text/plain": [
       "True"
      ]
     },
     "execution_count": 39,
     "metadata": {},
     "output_type": "execute_result"
    }
   ],
   "source": [
    "import random\n",
    "secret = random.randint(1,10)\n",
    "print(secret)\n",
    "#while 'C':\n",
    "    #print('C!')#无线循环\n",
    "i=10\n",
    "while i :\n",
    "    print('C!')\n",
    "    i=i-1\n",
    "#10 < cost <50 \n",
    "# 10 < cost and cost <50\n",
    "print('I love fishc');print('very much!')\n",
    "#语句分为多行\n",
    "3 > 2 and \\\n",
    "2 < 3\n",
    "#(3 > 2 and\n",
    "#2 > 3) 或者用括号"
   ]
  },
  {
   "cell_type": "markdown",
   "id": "a3050162",
   "metadata": {},
   "source": [
    "python数据类型\n",
    "    数值类型：整型(布尔值特殊整型)、浮点型（科学计数e）\n",
    "获取类型信息\n",
    "s为字符串\n",
    "s.isalnum()  所有字符都是数字或者字母，为真返回 Ture，否则返回 False。\n",
    "s.isalpha()   所有字符都是字母，为真返回 Ture，否则返回 False。\n",
    "s.isdigit()     所有字符都是数字，为真返回 Ture，否则返回 False。\n",
    "s.islower()    所有字符都是小写，为真返回 Ture，否则返回 False。\n",
    "s.isupper()   所有字符都是大写，为真返回 Ture，否则返回 False。\n",
    "s.istitle() 所有单词都是首字母大写，为真返回 Ture，否则返回 False。\n",
    "s.isspace()   所有字符都是空白字符，为真返回 Ture，否则返回 False。\n",
    "\n",
    "例如：\n",
    "s = 'I LOVE FISHC'\n",
    "s.isupper()\n",
    "True"
   ]
  },
  {
   "cell_type": "code",
   "execution_count": null,
   "id": "e705189f",
   "metadata": {},
   "outputs": [
    {
     "data": {
      "text/plain": [
       "0"
      ]
     },
     "execution_count": 42,
     "metadata": {},
     "output_type": "execute_result"
    }
   ],
   "source": [
    "True + True #2\n",
    "True + False #1 \n",
    "False + False #0\n",
    "a = '50'\n",
    "b=int(a)\n",
    "a = 5e+5\n",
    "a = 5e-5\n",
    "#转换\n",
    "int('50')\n",
    "float('31')\n",
    "str(20)\n",
    "#类型判断 type和isinstance,一般用isinstance\n",
    "type(50)\n",
    "type(50.3)\n",
    "type('heh')\n",
    "type(True)\n",
    "isinstance(50, int)#变量和类型\n",
    "isinstance('3', str)"
   ]
  },
  {
   "cell_type": "markdown",
   "id": "db556df6",
   "metadata": {},
   "source": [
    "常用操作符\n",
    "    算数操作符 \n",
    "    //地板除法\n",
    "    运算符优先级"
   ]
  },
  {
   "cell_type": "code",
   "execution_count": null,
   "id": "1dbfab00",
   "metadata": {},
   "outputs": [
    {
     "data": {
      "text/plain": [
       "True"
      ]
     },
     "execution_count": 2,
     "metadata": {},
     "output_type": "execute_result"
    }
   ],
   "source": [
    "not 1 or 0 and 1 or 3 and 4 or 5 and 6 or 7 and 8 and 9\n",
    "#（not 1）or (0 and 1) or (3 and 4) or (5 and 6) or (7 and 8 and 9) not > and > or\n",
    "#“短路逻辑”吗？3 and 4 == 4，而 3 or 4 == 3\n",
    "3 / 2\n",
    "3 // 2\n",
    "3.0 / 2.0\n",
    "3.0 // 2.0\n",
    "3 * 2\n",
    "-3 * 2 + 5 * -2\n",
    "3**2\n",
    "-3**2 #-9\n",
    "3**-2 #1/9\n",
    "2 < 3 < 4 # (2 < 3) and (3 < 4)\n",
    "not True\n",
    "not False\n",
    "not 0"
   ]
  },
  {
   "cell_type": "markdown",
   "id": "18cb615b",
   "metadata": {},
   "source": [
    "了不起的分支和循环\n",
    "assert这个关键字我们称之为“断言”，当这个关键字后边的条件为假的时候，程序自动崩溃并抛出AssertionError的异常。\n",
    "什么情况下我们会需要这样的代码呢？当我们在测试程序的时候就很好用，因为与其让错误的条件导致程序今后莫名其妙地崩溃，不如在错误条件出现的那一瞬间我们实现“自爆”。\n",
    "一般来说我们可以用Ta再程序中置入检查点，当需要确保程序中的某个条件一定为真才能让程序正常工作的话，assert关键字就非常有用了"
   ]
  },
  {
   "cell_type": "code",
   "execution_count": null,
   "id": "dd721586",
   "metadata": {},
   "outputs": [
    {
     "data": {
      "text/plain": [
       "True"
      ]
     },
     "execution_count": 3,
     "metadata": {},
     "output_type": "execute_result"
    }
   ],
   "source": [
    "# assert 3>4\n",
    "# assert 5>4\n",
    "# x,y,z=z,x,y#快速交换值\n",
    "# x if x<y else y#三元操作符\n",
    "name = 'xiaojiayu'\n",
    "'jiayu' in name # 成员资格运算符：in，用于检查一个值是否在序列中，如果在序列中返回 True，否则返回 False"
   ]
  },
  {
   "cell_type": "markdown",
   "id": "7f68277c",
   "metadata": {},
   "source": [
    "循环：while, for\n",
    "range(start, end, step)\n",
    "break终止循环，跳出循环体\n",
    "continue 终止本轮循环并开始下一轮循环（这里要注意的是：在开始下一轮循环之前，会先测试循环条件）\n",
    " while TURE:\n",
    "    循环体\n",
    "for i in 表达式：\n",
    "    循环体"
   ]
  },
  {
   "cell_type": "code",
   "execution_count": null,
   "id": "2b0ab7c7",
   "metadata": {},
   "outputs": [
    {
     "name": "stdout",
     "output_type": "stream",
     "text": [
      "f i s h c a b c d 0\n",
      "3\n",
      "6\n",
      "9\n"
     ]
    }
   ],
   "source": [
    "hehe = 'fishc'\n",
    "for i in hehe:\n",
    "    print(i, end=' ')\n",
    "hehec = ['a','b','c','d']\n",
    "for i in hehec:\n",
    "    print(i, end=' ')\n",
    "for i in range(0,10,3):\n",
    "    print(i)"
   ]
  },
  {
   "cell_type": "markdown",
   "id": "e7ce8b63",
   "metadata": {},
   "source": [
    "列表： 一个打了激素的数组\n",
    "# 添加\n",
    "append ,参数作为一个元素增加到列表的末尾\n",
    "extend ,参数作为一个列表去扩展列表的末尾\n",
    "insert\n",
    "\n",
    "# 删除\n",
    "remove\n",
    "del xx[]\n",
    "pop\n",
    "\n",
    "# slice切片\n"
   ]
  },
  {
   "cell_type": "code",
   "execution_count": null,
   "id": "38d1ca64",
   "metadata": {},
   "outputs": [
    {
     "name": "stdout",
     "output_type": "stream",
     "text": [
      "[1, 'xjy', 'tbj', 'no', 'sbl', 'hehe', ['heh', 'xx'], 'ai', 'yo']\n",
      "小甲鱼 88\n",
      "黑夜 90\n",
      "迷途 85\n",
      "怡静 90\n",
      "秋舞斜阳 88\n"
     ]
    }
   ],
   "source": [
    "member = ['xjy', 'tbj', 'sbl']\n",
    "member.append('hehe')\n",
    "member.append(['heh', 'xx'])\n",
    "member.extend(['ai', 'yo'])\n",
    "member.insert(0,1)\n",
    "member.insert(3,'no')\n",
    "print(member)\n",
    "member = ['小甲鱼', 88, '黑夜', 90, '迷途', 85, '怡静', 90, '秋舞斜阳', 88]\n",
    "for each in range(len(member)):\n",
    "    if each % 2 == 0:\n",
    "        print(member[each], member[each+1])"
   ]
  },
  {
   "cell_type": "code",
   "execution_count": null,
   "id": "ea010eb8",
   "metadata": {},
   "outputs": [
    {
     "name": "stdout",
     "output_type": "stream",
     "text": [
      "小甲鱼\n"
     ]
    }
   ],
   "source": [
    "list1 = [1, 3, 2, 9, 7, 8]\n",
    "member[::-1] #完成原列表的反转\n",
    "list1[0] #返回0的索引值\n",
    "list1[0:1] #返回只有第一个的列表\n",
    "list1.insert(0, list1.pop())\n",
    "#对于索引 0，1，2，3..是正向 ；-1，-2，-3..是反向\n",
    "list1[0:5:2] #分片，取不到5的位置，2是step\n",
    "L = ['Michael', 'Sarah', 'Tracy', 'Bob', 'Jack']\n",
    "L[:3] #等价 L[0:3]\n",
    "L[2:]\n",
    "#只写[:]就可以原样复制一个list,不要list3 = list1,这样list3会跟着list1变\n",
    "L.remove('Sarah')\n",
    "L.pop()#末尾\n",
    "L.pop(2)#按索引\n",
    "del L[1] # del L[索引值]"
   ]
  },
  {
   "cell_type": "markdown",
   "id": "26acd684",
   "metadata": {},
   "source": [
    "列表常用操作符\n",
    "1、比较\n",
    "2、逻辑\n",
    "3、连接\n",
    "4、重复\n",
    "5、成员关系\n",
    "dir(list)\n",
    "list.count\n",
    "list.index\n",
    "reverse翻转\n",
    "sort默认从小到大排序，sort(func,key,reverse)reverse=Flase默认\n",
    "\n",
    "列表的方法：dir(list)\n",
    "append()：在列表末尾添加新的对象\n",
    "extend()：在列表末尾一次性追加另一个序列中的多个值（用新列表扩展原来的列表）\n",
    "count()：统计出现的次数\n",
    "index(目标，起始位置，截止位置)：返回参数在列表中的位置\n",
    "insert()：将对象插入到列表指定位置\n",
    "pop()：移除列表中的一个元素（默认最后一个元素，可指定其他的位置），并且返回该元素的值\n",
    "remove()：移除列表中某个值的第一个匹配项（不能指定位置删除）\n",
    "reverse()：翻转列表\n",
    "sort()：按照指定的方式对列表成员排序，默认则从小到大排列\n",
    "特别的：sort(reverse=True)表示从大到小，默认为False\n",
    "\n",
    "列表的内置函数：\n",
    "比较两个列表的元素：operator.eq(list1,list2）（前提需import operator）\n",
    "计算列表元素个数：len(list1)\n",
    "返回列表中元素最大值：max(list1)\n",
    "返回列表中元素最小值：min(list1)\n",
    "将元组转换为列表：list(tuple1)"
   ]
  },
  {
   "cell_type": "code",
   "execution_count": null,
   "id": "257ebea1",
   "metadata": {},
   "outputs": [
    {
     "name": "stdout",
     "output_type": "stream",
     "text": [
      "True\n",
      "False\n"
     ]
    }
   ],
   "source": [
    "import operator\n",
    "\n",
    "list1 = [1, 2, 3]\n",
    "list2 = [1, 2, 3]\n",
    "list3 = [3, 2, 1]\n",
    "\n",
    "print(operator.eq(list1, list2))  # 输出 True\n",
    "print(operator.eq(list1, list3))  # 输出 False"
   ]
  },
  {
   "cell_type": "code",
   "execution_count": null,
   "id": "586c556d",
   "metadata": {},
   "outputs": [
    {
     "name": "stdout",
     "output_type": "stream",
     "text": [
      "[1, [1, 2, 'hehe'], 3, 5, 8, 13, 18]\n",
      "[1, [1, 2, ['小甲鱼']], 3, 5, 8, 13, 18]\n",
      "[(0, 1), (0, 3), (0, 5), (0, 7), (0, 9), (2, 1), (2, 3), (2, 5), (2, 7), (2, 9), (4, 1), (4, 3), (4, 5), (4, 7), (4, 9), (6, 1), (6, 3), (6, 5), (6, 7), (6, 9), (8, 1), (8, 3), (8, 5), (8, 7), (8, 9), (0, 1), (0, 3), (0, 5), (0, 7), (0, 9), (2, 1), (2, 3), (2, 5), (2, 7), (2, 9), (4, 1), (4, 3), (4, 5), (4, 7), (4, 9), (6, 1), (6, 3), (6, 5), (6, 7), (6, 9), (8, 1), (8, 3), (8, 5), (8, 7), (8, 9)]\n",
      "['1.耐克:Jost do It', '2.李宁:一切皆有可能', '3.鱼C工作室:让变成改变世界', '4.阿迪达斯:Impossible is nothing']\n",
      "[123, 456, 234, 123, 123, 456, 234, 123, 123, 456, 234, 123, 123, 456, 234, 123, 123, 456, 234, 123]\n"
     ]
    }
   ],
   "source": [
    "list1 = [1, [1, 2, ['小甲鱼']], 3, 5, 8, 13, 18]\n",
    "list1[1][2]='hehe'\n",
    "print(list1)\n",
    "list2 = [1, [1, 2, ['小甲鱼']], 3, 5, 8, 13, 18]\n",
    "list3 = list2.copy()\n",
    "list2.clear()#清空\n",
    "print(list3)\n",
    "#列表生成式（推导式或解析）\n",
    "[i*i for i in range(10)] #[有关A的表达式 for A in B]\n",
    "list4 = [i**2 for i in range(10)]\n",
    "#等价\n",
    "list4 =[]\n",
    "for i in range(10):\n",
    "    list4.append(i**2)\n",
    "list5 = [(x, y) for x in range(10) for y in range(10) if x%2==0 if y%2!=0]\n",
    "#还原list5\n",
    "for x in range(10):\n",
    "    for y in range(10):\n",
    "        if x % 2 == 0:\n",
    "            if y % 2 != 0:\n",
    "                list5.append((x, y))\n",
    "print(list5)\n",
    "list6 = ['1.Jost do It','2.一切皆有可能','3.让变成改变世界','4.Impossible is nothing']\n",
    "list7 = ['4.阿迪达斯','2.李宁','3.鱼C工作室','1.耐克']\n",
    "list8 = [name + ':' + slogan[2:] for slogan in list6 for name in list7 if name[0] == slogan[0]]\n",
    "#slogan[2:]第三个字符串和之后的\n",
    "print(list8)\n",
    "###列表常用操作符\n",
    "lista = [123]\n",
    "listb = [456]\n",
    "lista > listb\n",
    "lista = [123,456]\n",
    "listb = [234,123]\n",
    "listc = [123,456]\n",
    "lista < listb\n",
    "(lista < listb) and (lista ==listc)\n",
    "listd = lista + listb #类似extend\n",
    "listd *= 5 #重复列表 listd = listd * 5\n",
    "print(listd)\n",
    "123 in listd\n",
    "listd.count(123)\n",
    "listd.index(123)\n",
    "listd.index(123,5,8)\n",
    "liste =[0,2,1,5,4,7,6]\n",
    "liste.sort() #liste.sort(reverse=True)\n",
    "liste.reverse()\n"
   ]
  },
  {
   "cell_type": "markdown",
   "id": "b931b0e9",
   "metadata": {},
   "source": [
    "元组：戴上枷锁的列表\n",
    "不能随意修改\n",
    "创建和访问\n",
    "更新和删除\n",
    "元组相关操作符\n",
    "元组的内置函数：\n",
    "比较两个元组的元素：operator.eq(temp1,temp2）（前提需import operator）\n",
    "计算元组元素个数：len(temp1)\n",
    "返回元组中元素最大值：max(temp1)\n",
    "返回元组中元素最小值：min(temp1)\n",
    "将列表转换为元组：tuple(list1)\n",
    "\n",
    "元组的方法：\n",
    "index：这个方法返回某个参数在元组中的位置\n",
    "count：这个方法用来计算某个参数在元组中出现的次数"
   ]
  },
  {
   "cell_type": "code",
   "execution_count": null,
   "id": "391a2bc7",
   "metadata": {},
   "outputs": [
    {
     "name": "stdout",
     "output_type": "stream",
     "text": [
      "('x', 'n')\n"
     ]
    },
    {
     "data": {
      "text/plain": [
       "1"
      ]
     },
     "execution_count": 83,
     "metadata": {},
     "output_type": "execute_result"
    }
   ],
   "source": [
    "tuple1 = (1,) #必须要有 , tuple1 = (i)是一个int\n",
    "tuple1 = 1,\n",
    "tuple2 = 1, 2, 3\n",
    "8 * (8)\n",
    "8 * (8,)\n",
    "tuple3 = ('x', 'y', 'z', 'w', 'n')\n",
    "tuple4 = tuple3[:3] + ('xx',) + tuple3[3:]\n",
    "tuple5 = tuple3[0:1] + tuple3[4:]\n",
    "print(tuple5)\n",
    "type(tuple3[0:1]) #是元组 type(tuple3[0])是str\n",
    "'y' in tuple3\n",
    "tuple6 = 1,2,3,4,5,5\n",
    "tuple7 =4,5,6\n",
    "tuple6 > tuple7\n",
    "del tuple5#删除元组\n",
    "len(tuple6)\n",
    "tuple(list1)#列表转元组\n",
    "tuple6.count(5)\n",
    "tuple6.index(2)"
   ]
  },
  {
   "cell_type": "code",
   "execution_count": null,
   "id": "75953432",
   "metadata": {},
   "outputs": [
    {
     "name": "stdout",
     "output_type": "stream",
     "text": [
      "ilovefishc.com\n"
     ]
    }
   ],
   "source": [
    "file1 = open(r'D:\\py\\1.txt','r')\n",
    "str1 = 'i2sl54ovvvb4e3bferi32s56h;$c43.sfc67o0cm99'\n",
    "print(str1[::3])#从索引0开始，每隔3个取一个\n",
    "str2 ='abcd'\n",
    "str3 = str2[:2] + 'heh' + str2[2:]"
   ]
  },
  {
   "cell_type": "markdown",
   "id": "5e3bf8ee",
   "metadata": {},
   "source": [
    "拼接 .join很重要\n",
    "格式化 .format() #新格式\n",
    "字符串\n",
    "f-string\n",
    "\n",
    "c\t格式化字符及其ASCII码\n",
    "s\t格式化字符串\n",
    "d\t格式化整数\n",
    "o\t格式化无符号八进制数\n",
    "x\t格式化无符号十六进制数\n",
    "X\t格式化无符号十六进制数（大写）\n",
    "f\t格式化定点数，可指定小数点后的精度\n",
    "e\t用科学计数法格式化定点数\n",
    "E\t作用同e，用科学计数法格式化定点数\n",
    "g\t根据值的大小决定使用f或者e\n",
    "G\t作用同g，根据值的大小决定使用F或者E"
   ]
  },
  {
   "cell_type": "code",
   "execution_count": null,
   "id": "08eef621",
   "metadata": {},
   "outputs": [
    {
     "data": {
      "text/plain": [
       "'pi =  3.14'"
      ]
     },
     "execution_count": 160,
     "metadata": {},
     "output_type": "execute_result"
    }
   ],
   "source": [
    "'{:c}'.format(97)\n",
    "'{:{hehe}}'.format(98,hehe = 'c')\n",
    "'{:s}'.format('ting bu')\n",
    "'%d +%d' % (2,3)#旧\n",
    "'{0:d} + {1:d}'.format(3, 4)\n",
    "'{:#o}'.format(124)\n",
    "'{:#x}'.format(1234)\n",
    "'{:.2f}'.format(3.145)\n",
    "'{:.2e}'.format(1232421512)\n",
    "'{:g}'.format(4214)\n",
    "'{{1}}'.format(2)\n",
    "'{{}}'.format()\n",
    "'{0} {1:.2f}'.format('pi = ',3.142423)\n"
   ]
  },
  {
   "cell_type": "code",
   "execution_count": null,
   "id": "61da17f0",
   "metadata": {},
   "outputs": [
    {
     "data": {
      "text/plain": [
       "'z d xx m 2'"
      ]
     },
     "execution_count": 117,
     "metadata": {},
     "output_type": "execute_result"
    }
   ],
   "source": [
    "year = 2000\n",
    "'ting bu jian {} hehe'.format(year)\n",
    "f'ting bu jian {year} hehe'\n",
    "'z d m {1} {0}'.format(2,3)#按索引\n",
    "'z d {a} m {b}'.format(a='hehe', b='xx')#按key\n",
    "'z d {b} m {0}'.format(0, b='xx') #format中索引必须在key前\n",
    "b='xx'\n",
    "a=2\n",
    "f'z d {b} m {a}' #key 必须先赋值出来"
   ]
  },
  {
   "cell_type": "markdown",
   "id": "0270cdbe",
   "metadata": {},
   "source": [
    "序列：执行索引和分片\n",
    "列表、元组和字符串\n",
    "id(变量) 变量唯一标识\n",
    "in和not in, del\n",
    "min,max,len,sum,sorted,reversed\n",
    "all,any,\n",
    "enumerate枚举，生成由每个元素索引值和元素组成的元组,\n",
    "zip组合迭代对象，map,filter\n",
    "迭代器一次性，可迭代对象重复使用,next针对迭代器\n",
    "zip 方法在 Python 2 和 Python 3 中的不同：在 Python 3.x 中为了减少内存，zip() 返回的是一个对象"
   ]
  },
  {
   "cell_type": "code",
   "execution_count": 46,
   "id": "fac6f1fb",
   "metadata": {},
   "outputs": [
    {
     "data": {
      "text/plain": [
       "\"('FishC', 'hehe', 'ting')\""
      ]
     },
     "execution_count": 46,
     "metadata": {},
     "output_type": "execute_result"
    }
   ],
   "source": [
    "temp = 'FishC'\n",
    "list(temp)\n",
    "tuple(temp)\n",
    "temp = ['FishC', 'hehe', 'ting']\n",
    "tuple(temp)\n",
    "str(temp) #\"['FishC', 'hehe', 'ting']\"\n",
    "temp = ('FishC', 'hehe', 'ting')\n",
    "list(temp)\n",
    "str(temp) # \"('FishC', 'hehe', 'ting')\""
   ]
  },
  {
   "cell_type": "code",
   "execution_count": null,
   "id": "66849105",
   "metadata": {},
   "outputs": [
    {
     "name": "stdout",
     "output_type": "stream",
     "text": [
      "[0, 1, 2, 3, 5, 8]\n"
     ]
    },
    {
     "data": {
      "text/plain": [
       "2"
      ]
     },
     "execution_count": 209,
     "metadata": {},
     "output_type": "execute_result"
    }
   ],
   "source": [
    "#返回序列或者参数集合中的最大或最小值\n",
    "from numpy import sort\n",
    "\n",
    "\n",
    "max(1,2,3)\n",
    "max([12,3,45])\n",
    "max('FishC')\n",
    "max(('fish','a','b','w')) # min同理\n",
    "len('FishC')\n",
    "len([12,3,45])\n",
    "sum([1, 2, 3, 0, 0, 8])\n",
    "sum([1, 2, 3, 0, 0, 8],100) #sum(iterable[,start=0])：返回序列iterable和可选参数start的总和\n",
    "hehec = [1, 2, 3, 5, 0, 8]\n",
    "sorted(hehec) #不改变原排序\n",
    "hehec.sort() #原排序改变\n",
    "print(hehec)\n",
    "hehec = ['fish', 'heh', 'tingb']\n",
    "sorted(hehec, key=len, reverse=True) #key干扰排序函数\n",
    "reversed(hehec)#返回迭代器，反向\n",
    "list(reversed(hehec))#用list查看\n",
    "all([1, 3, 0])#Ture,所有Ture返回Ture\n",
    "any([1, 3, 0]) #Ture，有Ture，返回Ture\n",
    "hehec = 'Fishc'\n",
    "enumerate(hehec)\n",
    "list(enumerate(hehec))\n",
    "list(enumerate(hehec,10))\n",
    "list(zip([1,2],[3,4]))\n",
    "list(zip([1,2],[3,4],[5,6,7])) #超过了就不要了\n",
    "import itertools\n",
    "list(itertools.zip_longest([1,2],[3,4],[5,6,7])) #[(1, 3, 5), (2, 4, 6), (None, None, 7)]补None\n",
    "\n",
    "list(map(pow, [2, 3], [4, 5]))#[16, 243]函数加对象\n",
    "#返回函数后Ture的\n",
    "\n",
    "temp =  [1, 2, 3, 4, 5]\n",
    "y = iter(temp)\n",
    "type(temp)\n",
    "type(y)\n",
    "# next(y) next(y,'没有了)"
   ]
  },
  {
   "cell_type": "code",
   "execution_count": null,
   "id": "c27513cd",
   "metadata": {},
   "outputs": [
    {
     "data": {
      "text/plain": [
       "[4, 5, 6]"
      ]
     },
     "execution_count": 14,
     "metadata": {},
     "output_type": "execute_result"
    }
   ],
   "source": [
    "a = [1,2,3]\n",
    "b = [4,5,6]\n",
    "a1, a2 = zip(*zip(a,b))   # 与 zip 相反，*zip 可理解为解压，返回二维矩阵式\n",
    "list(a1)\n",
    "list(a2)"
   ]
  },
  {
   "cell_type": "markdown",
   "id": "044fcedd",
   "metadata": {},
   "source": [
    "字典dict\n",
    "dict = {'key':'x'}\n",
    "1、直接{}完成\n",
    "2、dict()key 无引号\n",
    "3、dict([(),()])列表里面元组对\n",
    "4、dict({})\n",
    "5、dict({},key) 1和2组合\n",
    "6、dict(zip([],[]))\n",
    "操作：\n",
    "    增：fromfeys\n",
    "    删：pop，popitem删除最后一个键值对（python 3.7），del dict['key'], clear清空\n",
    "    更新：update\n",
    "    查：get, setdefault没有的话，会增加新键值对\n",
    "    视图对象：keys, values, items\n",
    "    复制：dict1.copy\n",
    "    list(dict1) 等价list(dict1.key()),而值list(dict1.values())\n",
    "    嵌套字典\n",
    "    字典推导式"
   ]
  },
  {
   "cell_type": "code",
   "execution_count": null,
   "id": "4746345a",
   "metadata": {},
   "outputs": [
    {
     "name": "stdout",
     "output_type": "stream",
     "text": [
      "dict_items([('F', 80), ('C', 20), ('h', 104), ('i', 105), ('s', 115), ('E', 70), ('N', 20), ('EE', 'NONO')])\n",
      "{0: 3, 1: 3, 2: 3}\n"
     ]
    },
    {
     "data": {
      "text/plain": [
       "dict_items([('F', 70), ('C', 67), ('h', 104), ('i', 105), ('s', 115)])"
      ]
     },
     "execution_count": 58,
     "metadata": {},
     "output_type": "execute_result"
    }
   ],
   "source": [
    "#六种方式字典\n",
    "dict1 ={'F':70,'C':67,'h':104,'i':105,'s':115}\n",
    "dict2 = dict(F=70, C=67, h=104, i=105, s=115)#不能有引号\n",
    "dict3 = dict(zip(['F', 'C', 'h', 'i', 's'], [70, 67, 104, 105, 115]))\n",
    "dict4 = dict([('F',70),('C',67),('h',104),('i',105),('s',115)])#同理，元组里加元组对\n",
    "dict5 = dict({'F':70,'C':67,'h':104,'i':105}, s=115)\n",
    "\n",
    "set1 = {'a', 'b', 'c'}#集合，必须有key才是字典\n",
    "dict6 = {'F':70,'C':67,'h':104,'i':105,'s':115}\n",
    "dict.fromkeys((1,2,3),'hehe')\n",
    "dict.fromkeys('fishc',205)\n",
    "dict6.pop('F')\n",
    "dict6.popitem()\n",
    "del dict6['C']\n",
    "dict6.clear()\n",
    "\n",
    "dict7 = {'F':70,'C':67,'h':104,'i':105,'s':115}\n",
    "dict7.update({'F':80,'C':20})\n",
    "dict7.update({'E':70,'N':20})\n",
    "dict7.get('EE','没有')\n",
    "dict7.setdefault('E')\n",
    "dict7.setdefault('EE','NONO')\n",
    "dict7.get('EE')\n",
    "list(dict7.keys()) #list(dict7)\n",
    "list(dict7.values())\n",
    "print(dict7.items())\n",
    "dict8 = dict7.copy()\n",
    "dict9 = {'F':{'heh':20},'C':67,'h':104,'i':105,'s':115}\n",
    "dict9['F']['heh']\n",
    "dict9 = {'F':[1,2,20],'C':67,'h':104,'i':105,'s':115}\n",
    "dict9['F'][0]\n",
    "dict10 = {'F':70,'C':67,'h':104,'i':105,'s':115}\n",
    "dict11 = {v:k for k,v in dict10.items()}\n",
    "dict11 = {v:k for k,v in dict10.items() if v > 100}\n",
    "dict11 = {v:k for v in range(0,3) for k in range(1,4) }#会覆盖\n",
    "print(dict11)"
   ]
  },
  {
   "cell_type": "markdown",
   "id": "90b14b0f",
   "metadata": {},
   "source": [
    "集合 set，唯一性\n",
    "推导式随机性\n",
    "无索引\n",
    "可以成员操作 in 或 not in\n",
    "由于唯一性，可以去掉重复值，根据len判断是否有重复\n",
    "copy浅拷贝\n",
    "检测是否毫不相干（有交集） isdisjoint\n",
    "检测是否是另一个集合的子集 issubset\n",
    "检测是否是另一个集合超集（包含另一个集合）issuperset\n",
    "#下面三个都可以多参数，多个集合\n",
    "构成新并集 union\n",
    "交集 intersection\n",
    "差集（A中有，B中无）setA.difference(B)\n",
    "\n",
    "对称差集，只能单参数,symmetric_difference,A与B共有剔除\n",
    "\n",
    "<,<=,>,>=检测子集和超集\n",
    "| 管道符并集；& 交集 ; - 差集 ; ^ 对称差集 #运算符必须是集合类型，不像setA.方法可以使用迭代对象\n",
    "\n",
    "\n",
    "set()和frozenset()\n",
    "仅适用set,会更改集合内容:\n",
    "    set1.update()\n",
    "    set1.intersection_update()\n",
    "    set1.difference_update()\n",
    "    set1.symmetric_difference_update()\n",
    "    set1.add()整个作为一个元素插入\n",
    "    删除：remove 没有会抛出异常和 discard\n",
    "        pop 、 clear\n",
    "\n",
    "\n",
    "可哈希\n",
    "hash()获取哈希值\n",
    "\n",
    "frozenset可以实现嵌套"
   ]
  },
  {
   "cell_type": "code",
   "execution_count": 65,
   "id": "ca0916c0",
   "metadata": {},
   "outputs": [
    {
     "name": "stdout",
     "output_type": "stream",
     "text": [
      "{'h', 1, 's', 'f', 2, 'mei', 'c', 'i'}\n",
      "{'s'}\n",
      "{'c', 'f', 'i'}\n",
      "{'h', 'f', 'g', 'c', 'i'}\n",
      "{'h', 'f'}\n",
      "{'h'}\n",
      "{'n', 'h', 'o', 'c', 'i'}\n",
      "set4 {'h', 's', 'f', 'meiyou', 'c', 'i'}\n",
      "set()\n",
      "{frozenset({1, 2, 3}), 4, 5}\n"
     ]
    }
   ],
   "source": [
    "set1 = {1, 2, 3}\n",
    "set1 = set('fishc')\n",
    "set1 = {x for x in 'fishc'}\n",
    "list1 = [1,1,2,3,4]\n",
    "set1 = set(list1)\n",
    "len(list1)\n",
    "len(set1)\n",
    "set1 = set('fishc')\n",
    "'c' in set1 #'C' in set1不同\n",
    "'c' not in set1\n",
    "set2 = set1.copy()\n",
    "set2 = set('fishc')\n",
    "set2.isdisjoint('om')\n",
    "set2.issubset('fish.com')\n",
    "set2.issuperset('fis')\n",
    "set2.union('hehe')\n",
    "set2.difference('hehe')\n",
    "set2.intersection('hehe')\n",
    "set2.symmetric_difference('cno')\n",
    "set2 | {1,2} | {'mei'}\n",
    "print(set2 | {1,2} | {'mei'})\n",
    "print(set2 & {1,2,'s','h'} & {'s'})\n",
    "print(set2 - {1,2,'s','h'} - {'s'})\n",
    "print(set2 ^ {'s','g'})\n",
    "#仅适用可变集合\n",
    "set3 = set('fishc')\n",
    "set3.update('he',[1,2,3])\n",
    "set3.intersection_update('fh')\n",
    "print(set3)\n",
    "set3.difference_update('fis')\n",
    "print(set3)\n",
    "set3 = set('fishc')\n",
    "set3.symmetric_difference_update('fsno')\n",
    "print(set3)\n",
    "\n",
    "set4 = set('fishc')\n",
    "set4.add('meiyou')\n",
    "print('set4',set4)\n",
    "set4.remove('f')\n",
    "set4.discard('s')\n",
    "set4.discard('wu')#静默处理无报错异常\n",
    "set4.pop()\n",
    "set4.clear()\n",
    "print(set4)\n",
    "#嵌套\n",
    "set5 = frozenset({1,2,3})\n",
    "set6 = {set5, 4, 5}\n",
    "print(set6)\n"
   ]
  },
  {
   "cell_type": "markdown",
   "id": "035f3e28",
   "metadata": {},
   "source": [
    "函数\n",
    "创建和调用函数\n",
    "形式参数和实际参数\n",
    "函数返回值 return\n",
    "位置参数，key参数\n",
    "默认参数放后面, / *\n",
    "收集参数 *args 打包成元组， **kwargs 打包成dict\n",
    "解包参数\n",
    "\n",
    "作用域\n",
    "局部变量，函数内\n",
    "全局变量，函数外\n",
    "id(变量)\n",
    "global声明全局变量\n",
    "嵌套函数\n",
    "nonlacal内部修改外部作用域\n",
    "LEGB规则：\n",
    "    local变外置\n",
    "    local变全局\n",
    "    变量把BIF覆盖"
   ]
  },
  {
   "cell_type": "code",
   "execution_count": null,
   "id": "cbee90e0",
   "metadata": {},
   "outputs": [
    {
     "name": "stdout",
     "output_type": "stream",
     "text": [
      "hehe xixi\n",
      "hehe xixi\n",
      "hehe xixi\n",
      "hehe xixi\n",
      "hehe xixi\n",
      "cba\n",
      "heheba\n",
      "heheab\n",
      "Help on built-in function abs in module builtins:\n",
      "\n",
      "abs(x, /)\n",
      "    Return the absolute value of the argument.\n",
      "\n",
      "550\n",
      "880\n",
      "550\n",
      "550\n",
      "220\n",
      "550\n",
      "550\n",
      "xixi 810\n",
      "hehe 810\n"
     ]
    }
   ],
   "source": [
    "def func(name, times):\n",
    "    for i in range(times):\n",
    "        print('hehe {}'.format(name))\n",
    "func('xixi', 5)\n",
    "def funca(x, y):\n",
    "    if y == 0:\n",
    "        return print('no 0')\n",
    "    return x / y #else:    return x / y\n",
    "funca(3, 2)\n",
    "def funcb(a, b, c = \"hehe\"):\n",
    "    print(\"\".join((c, b, a))) #join() 只接受一个参数\n",
    "funcb('a','b','c')\n",
    "funcb('a','b')\n",
    "funcb(b='a',a ='b')\n",
    "help(abs) #abs(x, /) /左侧只能是位置参数\n",
    "\n",
    "def funcc(a,/ ,b, c):\n",
    "    return \"\".join((c, b, a))\n",
    "funcc('c',b = 'e',c= 'f') \n",
    "def funcd(a,* ,b, c):  # *右侧只能是关键字参数\n",
    "    return \"\".join((c, b, a))\n",
    "funcd('g', b = 'e',c= 'f')\n",
    "\n",
    "x = 880 \n",
    "def funck():\n",
    "    x = 550\n",
    "    print(x)\n",
    "funck()\n",
    "print(x)\n",
    "\n",
    "def funcl():\n",
    "    global x\n",
    "    x = 550\n",
    "    print(x)\n",
    "funcl()\n",
    "print(x)\n",
    "\n",
    "def funcaa():\n",
    "    x = 550\n",
    "    def funcz():\n",
    "        x = 220\n",
    "        print(x)\n",
    "    funcz()\n",
    "    print(x)\n",
    "funcaa()\n",
    "print(x)\n",
    "\n",
    "def funcab():\n",
    "    x = 310\n",
    "    def funcz():\n",
    "        nonlocal x\n",
    "        x = 810\n",
    "        print('xixi', x)\n",
    "    funcz()\n",
    "    print('hehe', x)\n",
    "funcab()"
   ]
  },
  {
   "cell_type": "code",
   "execution_count": null,
   "id": "18c1f6f8",
   "metadata": {},
   "outputs": [
    {
     "name": "stdout",
     "output_type": "stream",
     "text": [
      "('a', 'b', 'c')\n",
      "b\n",
      "('a', 'b', 'c') e g\n",
      "b\n",
      "{'a': 1, 'b': 2, 'c': 3}\n",
      "1 (2, 3, 4) {'heh': 3, 'hehe': 4}\n",
      "1 2 3\n",
      "2 2 3\n"
     ]
    }
   ],
   "source": [
    "#收集和解包\n",
    "def funce(*args):\n",
    "    print(f'{args}')\n",
    "    print(f'{args[1]}')\n",
    "funce('a','b','c')\n",
    "def funcg(*args,a , b):\n",
    "    print(f'{args} {a} {b}')\n",
    "    print(f'{args[1]}')\n",
    "funcg('a','b','c',a = 'e',b ='g')\n",
    "def funch(**kwargs):\n",
    "    print(kwargs)\n",
    "funch(a=1 ,b =2, c =3)\n",
    "\n",
    "def funch(a, *b, **c):\n",
    "    print(a ,b ,c)\n",
    "funch(1 ,2 ,3 ,4 , heh =3, hehe =4)\n",
    "\n",
    "args = (1, 2, 3)\n",
    "def funcj(a, b, c):\n",
    "    print(a, b, c)\n",
    "funcj(*args)\n",
    "\n",
    "arga = {'a':2 , 'b':2, 'c':3}\n",
    "funcj(**arga)\n",
    "\n"
   ]
  },
  {
   "cell_type": "markdown",
   "id": "da996f1d",
   "metadata": {},
   "source": [
    "函数闭包\n",
    "会将外层作用域保留下来,相关参数和变量都保存在返回的函数中"
   ]
  },
  {
   "cell_type": "code",
   "execution_count": 102,
   "id": "68ec0ab1",
   "metadata": {},
   "outputs": [
    {
     "name": "stdout",
     "output_type": "stream",
     "text": [
      "x=1,y=2\n",
      "x=14,y=-3\n",
      "1 2 3 4 5\n"
     ]
    }
   ],
   "source": [
    "from tkinter import Y\n",
    "\n",
    "\n",
    "def funny(a):\n",
    "    def funnya(b):\n",
    "        return b ** a\n",
    "    return funnya #只需要函数名不需要括号\n",
    "numberca = funny(2)\n",
    "numbercb = funny(3)\n",
    "numberca(4)\n",
    "numbercb(4)\n",
    "#闭包，\n",
    "def funnyb():\n",
    "    x = 0\n",
    "    y = 0\n",
    "    def funnyc(x1, y1):\n",
    "        nonlocal x,y\n",
    "        x +=x1\n",
    "        y +=y1\n",
    "        print(f'x={x},y={y}')\n",
    "    return funnyc\n",
    "other = funnyb()\n",
    "other(1,2)\n",
    "other(13,-5)\n",
    "def createCounter():\n",
    "    x = 0\n",
    "    def counter():\n",
    "        nonlocal x\n",
    "        x += 1\n",
    "        return x\n",
    "    return counter\n",
    "counterA = createCounter()\n",
    "print(counterA(), counterA(), counterA(), counterA(), counterA())"
   ]
  },
  {
   "cell_type": "markdown",
   "id": "3108b0ef",
   "metadata": {},
   "source": [
    "装饰器\n",
    "返回函数的高阶函数\n",
    "函数作为参数传递\n",
    "装饰器的核心价值在于：“在不侵入原代码的前提下，灵活地增强、控制或复用功能”。它让代码更简洁、复用性更高、逻辑更清晰，尤其在大型项目中，能显著降低维护成本。常见的应用场景包括日志记录、性能测试、权限验证、缓存、异常处理等"
   ]
  },
  {
   "cell_type": "code",
   "execution_count": null,
   "id": "bea8cfc3",
   "metadata": {},
   "outputs": [
    {
     "name": "stdout",
     "output_type": "stream",
     "text": [
      "1start\n",
      "start\n",
      "1end\n",
      "ok\n",
      "2.00\n",
      "ok\n",
      "A1.00\n"
     ]
    }
   ],
   "source": [
    "def myfunc():\n",
    "    print('start')\n",
    "def report(func):\n",
    "    print('1start')\n",
    "    func()\n",
    "    print('1end')\n",
    "report(myfunc)\n",
    "\n",
    "import time\n",
    "def time_master(func):\n",
    "    def call_func():\n",
    "        start = time.time()\n",
    "        func()\n",
    "        stop = time.time()\n",
    "        print(f'{(stop - start):.2f}')\n",
    "    return call_func\n",
    "@time_master\n",
    "def myfunc():\n",
    "    time.sleep(2)\n",
    "    print('ok')\n",
    "myfunc()\n",
    "#类似 myfun = time_master(myfunc) #返回内部call_func()\n",
    "#     myfun()\n",
    "\n",
    "##多个装饰器，传入参数\n",
    "import time\n",
    "def logger(msg):\n",
    "    def time_master(func):\n",
    "        def call_func(x):\n",
    "            start = time.time()\n",
    "            func(x)\n",
    "            stop = time.time()\n",
    "            print(f'{msg}{(stop - start):.2f}')\n",
    "        return call_func\n",
    "    return time_master\n",
    "@logger(msg='A')\n",
    "def funA(x):\n",
    "    time.sleep(x)\n",
    "    print('ok')\n",
    "funA(1)\n",
    "#等价  funA = logger(msg='A')(funA)\n",
    "#      funA()\n"
   ]
  },
  {
   "cell_type": "markdown",
   "id": "dceedeec",
   "metadata": {},
   "source": [
    "lambda表达式，匿名函数\n",
    "写一些执行脚本时，使用匿名函数就可以省下定义函数过程,相对简单的函数"
   ]
  },
  {
   "cell_type": "code",
   "execution_count": null,
   "id": "42aca502",
   "metadata": {},
   "outputs": [
    {
     "data": {
      "text/plain": [
       "[[1, 2], [3, 4], [5, 6], [7, 8]]"
      ]
     },
     "execution_count": 12,
     "metadata": {},
     "output_type": "execute_result"
    }
   ],
   "source": [
    "y = [lambda x:x * x, 2, 3]\n",
    "y[0](y[1])#y是<function <lambda> at 0x101c6ef28>\n",
    "zy=map(lambda x : ord(x)+10,'fishc')\n",
    "list(zy)\n",
    "list(filter(lambda x : x % 2,range(10)))\n",
    "#def fun_A(x,y=3):\n",
    "    #return x*y\n",
    "z = lambda x,y=3: x*y\n",
    "#lambda x:x if x%2 else None\n",
    "def yushu(x):\n",
    "    if x % 2 :\n",
    "        return x\n",
    "    else:\n",
    "        return None\n",
    "#用filter()函数和lambda表达式快速求出100以内所有3的倍数\n",
    "a = list(filter(lambda x : x % 3 == 0,range(1,100)))\n",
    "#列表推导式\n",
    "a1 = [x for x in range(1,100) if x % 3 ==0]\n",
    "\n",
    "list(map(lambda x,y : [x,y],[1,3,5,7],[2,4,6,8]))"
   ]
  },
  {
   "cell_type": "markdown",
   "id": "c8f37e5b",
   "metadata": {},
   "source": [
    "生成器\n",
    "每次调用生成一个数据，特殊迭代器\n",
    "next generator()\n",
    "生成器表达式()\n",
    "类似列表推导式[]"
   ]
  },
  {
   "cell_type": "code",
   "execution_count": null,
   "id": "92017a4a",
   "metadata": {},
   "outputs": [
    {
     "name": "stdout",
     "output_type": "stream",
     "text": [
      "0\n",
      "1\n",
      "2\n",
      "3\n",
      "4\n",
      "0\n",
      "1\n",
      "4\n",
      "9\n",
      "16\n",
      "25\n",
      "36\n",
      "49\n",
      "64\n",
      "81\n"
     ]
    }
   ],
   "source": [
    "def fib():\n",
    "    i = 0\n",
    "    while i < 5:\n",
    "        yield i\n",
    "        i += 1\n",
    "a = fib()\n",
    "next(a)\n",
    "for i in fib():\n",
    "    print(i)\n",
    "def fiba():\n",
    "    back1, back2 = 0, 1\n",
    "    while True:\n",
    "        yield back1\n",
    "        back1, back2 = back2, back1+back2\n",
    "b = fiba()\n",
    "next(b)\n",
    "c = (i**2 for i in range(10) )#<generator object <genexpr> at 0x000001EB2EAFE190>\n",
    "for i in c:\n",
    "    print(i)"
   ]
  },
  {
   "cell_type": "markdown",
   "id": "7035bc88",
   "metadata": {},
   "source": [
    "递归\n",
    "函数调用本身\n",
    "汉诺塔，目录索引（因为你永远不知道这个目录里边是否还有目录），快速排序（二十世纪十大算法之一），树结构的定义等\n",
    "优点：\n",
    "1）递归的基本思想是把规模大的问题转变成规模小的问题组合，从而简化问题的解决难度（例如汉诺塔游戏）。\n",
    "2）有些问题使用递归使得代码简洁易懂（例如你可以很容易的写出前中后序的二叉树遍历的递归算法，但如果要写出相应的非递归\n",
    "者可以做到的了。）\n",
    "缺点：\n",
    "1）由于递归的原理是函数调用自个儿，所以一旦大量的调用函数本身空间和时间消耗是“奢侈的”。\n",
    "2）初学者很容易错误的设置了返回条件，导致递归代码无休止调用，最终栈溢出，程序崩溃。\n",
    "汉诺塔，递归"
   ]
  },
  {
   "cell_type": "code",
   "execution_count": null,
   "id": "f4194c13",
   "metadata": {},
   "outputs": [
    {
     "name": "stdout",
     "output_type": "stream",
     "text": [
      "8\n"
     ]
    }
   ],
   "source": [
    "from unittest import result\n",
    "\n",
    "\n",
    "def power(x, y):\n",
    "    results = 1\n",
    "    for i in range(y):\n",
    "        results *= X\n",
    "        return results\n",
    "def powera(x, y):\n",
    "    if y == 0:\n",
    "        return 1\n",
    "    else:\n",
    "        return x*powera(x,y-1)\n",
    "a = powera(2,3)\n",
    "print(a)"
   ]
  },
  {
   "cell_type": "code",
   "execution_count": null,
   "id": "174ac008",
   "metadata": {},
   "outputs": [
    {
     "name": "stdout",
     "output_type": "stream",
     "text": [
      "9\n",
      "9\n",
      "9\n",
      "2\n",
      "1\n",
      "1\n",
      "9\n",
      "6\n",
      "3\n",
      "3\n"
     ]
    }
   ],
   "source": [
    "def gcd(x,y):\n",
    "    if y:\n",
    "        print(y)\n",
    "        return gcd(y,x%y)\n",
    "    else:\n",
    "        return x\n",
    "\n",
    "\n",
    "print(gcd(0, 9))\n",
    "print(gcd(11, 9))\n",
    "print(gcd(33, 9))"
   ]
  },
  {
   "cell_type": "code",
   "execution_count": null,
   "id": "5fec509d",
   "metadata": {},
   "outputs": [
    {
     "name": "stdout",
     "output_type": "stream",
     "text": [
      "[1, 2, 3]\n",
      "A -> C\n",
      "A -> B\n",
      "C -> B\n",
      "A -> C\n",
      "B -> A\n",
      "B -> C\n",
      "A -> C\n"
     ]
    }
   ],
   "source": [
    "result = []\n",
    "def get_digits(x):\n",
    "    if x > 0:\n",
    "        result.insert(0,x % 10)\n",
    "        get_digits(x // 10)\n",
    "get_digits(123)\n",
    "print(result)\n",
    "def givef(x):\n",
    "    if x == 1 :\n",
    "        return 10\n",
    "    else:\n",
    "        return 2 + givef(x-1)\n",
    "givef(5)\n",
    "def fib(n):\n",
    "    if n==1 or n==2:\n",
    "        return 1\n",
    "    else:\n",
    "        return fib(n-1)+fib(n-2)\n",
    "fib(5)\n",
    "def hanoi(n,x,y,z):\n",
    "    if n == 1:\n",
    "        print(x,'->',z)\n",
    "    else:\n",
    "        hanoi(n-1,x,z,y)#将x上的前n-1个盘移动到y上\n",
    "        print(x,'->',z)#将x上的n盘移动到z上\n",
    "        hanoi(n-1,y,x,z)#将y盘上的n-1个盘移动到z上\n",
    "\n",
    "hanoi(3,'A','B','C')"
   ]
  },
  {
   "cell_type": "markdown",
   "id": "196c0755",
   "metadata": {},
   "source": [
    "def fun():\n",
    "'''\n",
    "注释\n",
    "'''\n",
    "类型注释：输入参数和输出注释\n",
    "内省"
   ]
  },
  {
   "cell_type": "markdown",
   "id": "b9bae9a8",
   "metadata": {},
   "source": [
    "高阶函数\n",
    "偏函数：functools.partial的作用就是，把一个函数的某些参数给固定住（也就是设置默认值），返回一个新的函数，调用这个新函数会更简单"
   ]
  },
  {
   "cell_type": "code",
   "execution_count": null,
   "id": "4dc279c0",
   "metadata": {},
   "outputs": [
    {
     "name": "stdout",
     "output_type": "stream",
     "text": [
      "2.00\n"
     ]
    },
    {
     "data": {
      "text/plain": [
       "945"
      ]
     },
     "execution_count": 49,
     "metadata": {},
     "output_type": "execute_result"
    }
   ],
   "source": [
    "import functools\n",
    "import time\n",
    "def time_master(func):\n",
    "    @functools.wraps(func)\n",
    "    def call_func():\n",
    "        start = time.time()\n",
    "        func()\n",
    "        end = time.time()\n",
    "        print(f'{(end - start):.2f}')\n",
    "    return call_func\n",
    "@time_master\n",
    "def myfunc():\n",
    "    time.sleep(2)\n",
    "myfunc()\n",
    "myfunc.__name__\n",
    "\n",
    "def prod(L):\n",
    "    return functools.reduce(lambda x,y : x*y, L)\n",
    "prod([3, 5, 7, 9])"
   ]
  },
  {
   "cell_type": "code",
   "execution_count": null,
   "id": "74c8b08e",
   "metadata": {},
   "outputs": [
    {
     "data": {
      "text/plain": [
       "9"
      ]
     },
     "execution_count": 10,
     "metadata": {},
     "output_type": "execute_result"
    }
   ],
   "source": [
    "import functools\n",
    "#通过help(pow)查看\n",
    "sqa = functools.partial(pow,2)#固定第一个参数\n",
    "sqa = functools.partial(pow,exp=2)#固定第二个参数   \n",
    "sqa(3)"
   ]
  },
  {
   "cell_type": "markdown",
   "id": "533f8466",
   "metadata": {},
   "source": [
    "永久储存\n",
    "文件对象的方法\t执行操作\n",
    "close()\t关闭文件\n",
    "read(size=-1)\t从文件读取size个字符（单位是字节，中文算2个字节），当未给定size或给定负值的时候，读取剩余的所有字符，然后作为字符串返回（注意这里的读取是从文件指针开始读取，而不是从初始位置）\n",
    "readline()\t从文件中读取一整行字符串（包括末尾的换行'\\n'）\n",
    "write(str)\t将字符串str写入文件\n",
    "writelines(seq)\t向文件写入字符串序列seq，seq应该是一个返回字符串的可迭代对象\n",
    "seek(offset, from)\t在文件中移动文件指针，从from（0代表文件起始位置，1代表当前位置，2代表文件末尾）偏移offset个字节\n",
    "tell()\t返回当前文件指针在文件中的位置\n",
    "\n",
    "StringIO和BytesIO"
   ]
  },
  {
   "cell_type": "code",
   "execution_count": null,
   "id": "9577e474",
   "metadata": {},
   "outputs": [],
   "source": [
    "f = open(\"fishc.txt\",'w')\n",
    "f.write('fish yu c.')\n",
    "f.writelines(['ni tian.\\n','ting bu jian'])\n",
    "f.close()"
   ]
  },
  {
   "cell_type": "code",
   "execution_count": null,
   "id": "37341f88",
   "metadata": {},
   "outputs": [
    {
     "name": "stdout",
     "output_type": "stream",
     "text": [
      "fish yu c.ni tian.\n",
      "\n",
      "ting bu jian\n"
     ]
    },
    {
     "data": {
      "text/plain": [
       "'tin'"
      ]
     },
     "execution_count": 85,
     "metadata": {},
     "output_type": "execute_result"
    }
   ],
   "source": [
    "f = open(\"fishc.txt\",'r+')\n",
    "f.readable()\n",
    "f.writable()\n",
    "for each in f:\n",
    "    print(each)\n",
    "# f.read() 返回''#上面的for循环读完了 f\n",
    "f.readline()\n",
    "f.seek(0)#重新设置指针\n",
    "f.readline()\n",
    "f.read(3)"
   ]
  },
  {
   "cell_type": "code",
   "execution_count": null,
   "id": "47a83845",
   "metadata": {},
   "outputs": [],
   "source": [
    "f = open(\"fishc.txt\",'r+')\n",
    "f.seek(5,0)\n",
    "f.write('myfic')\n",
    "f.flush()#缓存写入到文件中（）不一定有效\n",
    "f.truncate(15)#将文件对象截取到pos，默认截取到文件指针当前位置\n",
    "f.close()"
   ]
  },
  {
   "cell_type": "code",
   "execution_count": 7,
   "id": "e266ffe1",
   "metadata": {},
   "outputs": [
    {
     "name": "stdout",
     "output_type": "stream",
     "text": [
      "hello world!\n",
      "hello\n",
      "Hi!\n",
      "world!\n"
     ]
    }
   ],
   "source": [
    "from io import StringIO\n",
    "\n",
    "from idna import encode\n",
    "#StringIO顾名思义就是在内存中读写str\n",
    "f = StringIO()\n",
    "f.write('hello')\n",
    "f.write(' ')\n",
    "f.write('world!')\n",
    "print(f.getvalue())\n",
    "b = StringIO('hello\\nHi!\\nworld!')\n",
    "while True:\n",
    "    s = b.readline()\n",
    "    if s == '':\n",
    "        break\n",
    "    print(s.strip())\n",
    "\n"
   ]
  },
  {
   "cell_type": "code",
   "execution_count": 12,
   "id": "9b3f034b",
   "metadata": {},
   "outputs": [
    {
     "name": "stdout",
     "output_type": "stream",
     "text": [
      "b'\\xe4\\xb8\\xad\\xe6\\x96\\x87'\n"
     ]
    },
    {
     "data": {
      "text/plain": [
       "b'\\xe4\\xb8\\xad\\xe6\\x96\\x87'"
      ]
     },
     "execution_count": 12,
     "metadata": {},
     "output_type": "execute_result"
    }
   ],
   "source": [
    "#BytesIO实现了在内存中读写byte\n",
    "from io import BytesIO\n",
    "a = BytesIO()\n",
    "a.write('中文'.encode('utf-8'))#str.encode()\n",
    "print(a.getvalue())\n",
    "f = BytesIO(b'\\xe4\\xb8\\xad\\xe6\\x96\\x87')\n",
    "f.read()"
   ]
  },
  {
   "cell_type": "markdown",
   "id": "0f4c43a9",
   "metadata": {},
   "source": [
    "永久储存\n",
    "    路径处理\n",
    "    pathlib模块："
   ]
  },
  {
   "cell_type": "code",
   "execution_count": 165,
   "id": "b32ac0ae",
   "metadata": {},
   "outputs": [
    {
     "name": "stdout",
     "output_type": "stream",
     "text": [
      "D:\\\n",
      "D:\\py\\1.txt\n",
      "D:\\py\\2.txt\n",
      "D:\\py\\bai_ban\n",
      "D:\\py\\Book7_Visualizations-for-Machine-Learning-main.zip\n",
      "D:\\py\\buxixi\n",
      "D:\\py\\chr_code.py\n",
      "D:\\py\\file.txt\n",
      "D:\\py\\fisha.txt\n",
      "D:\\py\\fishbin.pkl\n",
      "D:\\py\\fishc\n",
      "D:\\py\\fishc.txt\n",
      "D:\\py\\learning.ipynb\n",
      "D:\\py\\log.txt\n",
      "D:\\py\\newfile.txt\n",
      "D:\\py\\Python三剑客\n",
      "D:\\py\\tfile.pickle\n",
      "D:\\py\\Untitled-3.py\n",
      "D:\\py\\x.ipynb\n",
      "D:\\py\\z.ipynb\n",
      "D:\\py\\小甲鱼第二版最新版\n",
      "D:\\py\\小甲鱼第二版最新版.rar\n",
      "D:\\py\\小甲鱼编程题\n",
      "D:\\py\\类和对象_self关键.txt\n",
      "['1.txt', '2.txt', 'Book7_Visualizations-for-Machine-Learning-main.zip', 'chr_code.py', 'file.txt', 'fisha.txt', 'fishbin.pkl', 'fishc.txt', 'learning.ipynb', 'log.txt', 'newfile.txt', 'tfile.pickle', 'Untitled-3.py', 'x.ipynb', 'z.ipynb', '小甲鱼第二版最新版.rar', '类和对象_self关键.txt']\n"
     ]
    },
    {
     "data": {
      "text/plain": [
       "[WindowsPath('D:/py/1.txt'),\n",
       " WindowsPath('D:/py/2.txt'),\n",
       " WindowsPath('D:/py/file.txt'),\n",
       " WindowsPath('D:/py/fisha.txt'),\n",
       " WindowsPath('D:/py/fishc.txt'),\n",
       " WindowsPath('D:/py/log.txt'),\n",
       " WindowsPath('D:/py/newfile.txt'),\n",
       " WindowsPath('D:/py/类和对象_self关键.txt'),\n",
       " WindowsPath('D:/py/buxixi/he.txt'),\n",
       " WindowsPath('D:/py/buxixi/newhe.txt'),\n",
       " WindowsPath('D:/py/小甲鱼第二版最新版/课后作业/第053讲：FishC.txt')]"
      ]
     },
     "execution_count": 165,
     "metadata": {},
     "output_type": "execute_result"
    }
   ],
   "source": [
    "from pathlib import Path\n",
    "Path.cwd()\n",
    "p = Path('D:/py')#路径\n",
    "q = p / 'fishc.txt'#拼接路径\n",
    "p.is_dir()\n",
    "q.is_file()\n",
    "p.name\n",
    "q.name#.name给出路径最后一部分\n",
    "q.stem#文件前缀\n",
    "q.suffix#文件后缀\n",
    "p.parent#给出父目录\n",
    "q.parent\n",
    "#.parents所有上层目录\n",
    "for each in p.parents:\n",
    "    print(each)\n",
    "p.parents[0]\n",
    "p.parts#目录组成变成元组\n",
    "p.stat()#目录状态\n",
    "p.stat().st_size\n",
    "Path('./buxixi')#相对路径\n",
    "Path('./buxixi').resolve()#相对转绝对\n",
    "for each in p.iterdir():\n",
    "    print(each)\n",
    "#.iterdir()当前路径下的目录和文件\n",
    "print([x.name for x in p.iterdir() if x.is_file()])\n",
    "n = Path('D:/py/fishc')\n",
    "#n.mkdir()\n",
    "#n.mkdir(exist_ok=True),在目录存在条件下\n",
    "#n = Path('D:/py/fishc/A/B/C')\n",
    "#n.mkdir(parents=True, exist_ok=True)#如果子目录不存在要加parents参数\n",
    "#n = Path('D:/py/fishc/A/B/C/hehe.txt')#要先给出文件路径\n",
    "#f = n.open('w')\n",
    "#f.write('fishc')\n",
    "#f.close()\n",
    "#n.rename('ting.txt')#直接变到当前路径\n",
    "#m = Path('ting.txt')\n",
    "#m.replace(n)\n",
    "###删除文件夹，要先删除文件\n",
    "#n.unlink()\n",
    "#n = Path('D:/py/fishc/A/B/C/fishc.txt')\n",
    "#n.parent.rmdir()#文件的上一级目录，D:/py/fishc/A/B/C\n",
    "list(p.glob('*.txt'))\n",
    "list(p.glob('*/*.txt'))#当前目录下一级\n",
    "list(p.glob('**/*.txt'))#当前目录的所有子目录下"
   ]
  },
  {
   "cell_type": "markdown",
   "id": "99ed88f8",
   "metadata": {},
   "source": [
    "永久储存：\n",
    "    with语句和上下文管理器\n",
    "    pickle模块永久储存python对象"
   ]
  },
  {
   "cell_type": "code",
   "execution_count": null,
   "id": "e0d4eff4",
   "metadata": {},
   "outputs": [],
   "source": [
    "with open('fisha.txt', 'w') as f:\n",
    "    f.write('i learn fishc')\n",
    "#等价 f = open('fisha.txt', 'w')\n",
    "#     f.write('i learn fishc')\n",
    "#     f.close()"
   ]
  },
  {
   "cell_type": "code",
   "execution_count": null,
   "id": "1f949d13",
   "metadata": {},
   "outputs": [],
   "source": [
    "import pickle\n",
    "x, y, z = 1, 2, 3\n",
    "s='fishc'\n",
    "l=[1,'xjy',3.2] \n",
    "b={'a':2, 'b':'呵呵'}\n",
    "with open('fishbin.pkl', 'wb') as f:\n",
    "    pickle.dump((x,y,z,s,l,b),f)"
   ]
  },
  {
   "cell_type": "code",
   "execution_count": 3,
   "id": "ff525b2c",
   "metadata": {},
   "outputs": [
    {
     "name": "stdout",
     "output_type": "stream",
     "text": [
      "1\n",
      "2\n",
      "3\n",
      "[1, 'xjy', 3.2]\n",
      "fishc\n",
      "{'a': 2, 'b': '呵呵'}\n"
     ]
    }
   ],
   "source": [
    "import pickle\n",
    "with open('fishbin.pkl', 'rb') as f:\n",
    "    x,y,z,s,l,b = pickle.load(f)\n",
    "print(x,y,z,l,s,b,sep='\\n')"
   ]
  },
  {
   "cell_type": "markdown",
   "id": "2a5af678",
   "metadata": {},
   "source": [
    "异常\n",
    "try-except-else #没有异常则执行这个\n",
    "try-except-finally #无论异常是否发生都执行\n",
    "异常嵌套\n",
    "raise:主动,必须是存在的异常，不能自己定义\n",
    "assert :给出一个aseertionError异常，通常用于代码调试\n",
    "利用异常实现goto,例如多嵌套直接跳出"
   ]
  },
  {
   "cell_type": "code",
   "execution_count": null,
   "id": "042cadac",
   "metadata": {},
   "outputs": [
    {
     "name": "stdout",
     "output_type": "stream",
     "text": [
      "出错\n",
      "division by zero\n",
      "unsupported operand type(s) for +: 'int' and 'str'\n"
     ]
    }
   ],
   "source": [
    "try:\n",
    "    1 / 0\n",
    "except:\n",
    "    print('出错')\n",
    "try:\n",
    "    1 / 0\n",
    "except ZeroDivisionError as e:#捕捉指定错误，as 将异常原因提出\n",
    "    print(e)\n",
    "\n",
    "#多个错误，可以选择元组打包，也可以多个except\n",
    "try:\n",
    "    1 / 0\n",
    "    520 +'fish'\n",
    "except (ZeroDivisionError, ValueError, TypeError):\n",
    "    pass\n",
    "#第一个成功捕获对应错误，不会再往下\n",
    "try:\n",
    "    1 / 0\n",
    "    520 +'fish'\n",
    "except ZeroDivisionError as a:\n",
    "    print(a)\n",
    "except ValueError as b:\n",
    "    print(b)\n",
    "except TypeError as c:\n",
    "    print(c)\n"
   ]
  },
  {
   "cell_type": "code",
   "execution_count": 14,
   "id": "81e9c4aa",
   "metadata": {},
   "outputs": [
    {
     "name": "stdout",
     "output_type": "stream",
     "text": [
      "right\n",
      "无论怎样都输出\n",
      "0\n",
      "1\n",
      "2\n",
      "3\n",
      "到这儿来了\n"
     ]
    }
   ],
   "source": [
    "try:\n",
    "    5 / 2\n",
    "except:\n",
    "    print('error')\n",
    "else:\n",
    "    print('right')\n",
    "finally:\n",
    "    print('无论怎样都输出')\n",
    "# raise ValueError('数值错误')\n",
    "#try:\n",
    "#    1 / 0\n",
    "#except:\n",
    "#    raise ValueError('数值错误')\n",
    "assert 'fishc' == 'fishc'\n",
    "# assert 'fishc' != 'fishc'\n",
    "try:\n",
    "    while True:\n",
    "        while True:\n",
    "            for i in range(10):\n",
    "                if i > 3:\n",
    "                    raise\n",
    "                print(i)\n",
    "            print('被跳过')\n",
    "        print('被跳过')\n",
    "    print('被跳过')\n",
    "except:\n",
    "    print('到这儿来了')"
   ]
  },
  {
   "cell_type": "markdown",
   "id": "53b80cb5",
   "metadata": {},
   "source": [
    "类和对象（1），优势：实现代码的封装和重用\n",
    "对象 = 属性 + 方法\n",
    "需要先创建一个类（class）类名大写字母开头\n",
    "self参数，实例/对象本身"
   ]
  },
  {
   "cell_type": "code",
   "execution_count": 22,
   "id": "eba87e60",
   "metadata": {},
   "outputs": [
    {
     "name": "stdout",
     "output_type": "stream",
     "text": [
      "250\n"
     ]
    }
   ],
   "source": [
    "class C(object):\n",
    "    def get_self(self):\n",
    "        print(self)\n",
    "c= C()#instance，实例\n",
    "class C(object):\n",
    "    x = 250\n",
    "    def get_self(self):\n",
    "        print(self.x)\n",
    "c = C()\n",
    "c.get_self()"
   ]
  },
  {
   "cell_type": "markdown",
   "id": "4f143568",
   "metadata": {},
   "source": [
    "类和对象（2）\n",
    "继承，多重继承和组合\n",
    "继承的是子类\n",
    "被继承的是父类，基类，超类\n"
   ]
  },
  {
   "cell_type": "code",
   "execution_count": 28,
   "id": "e4b98f34",
   "metadata": {},
   "outputs": [
    {
     "data": {
      "text/plain": [
       "550"
      ]
     },
     "execution_count": 28,
     "metadata": {},
     "output_type": "execute_result"
    }
   ],
   "source": [
    "class A:\n",
    "    x = 550\n",
    "    def say(self):\n",
    "        print('A')\n",
    "class B(A):\n",
    "    pass\n",
    "#B继承了A\n",
    "b = B()\n",
    "b.x"
   ]
  },
  {
   "cell_type": "code",
   "execution_count": null,
   "id": "8fe0ab36",
   "metadata": {},
   "outputs": [
    {
     "name": "stdout",
     "output_type": "stream",
     "text": [
      "B\n"
     ]
    },
    {
     "data": {
      "text/plain": [
       "330"
      ]
     },
     "execution_count": 34,
     "metadata": {},
     "output_type": "execute_result"
    }
   ],
   "source": [
    "#覆盖了A\n",
    "class A:\n",
    "    x = 550\n",
    "    def say(self):\n",
    "        print('A')\n",
    "class B(A):\n",
    "    x = 880\n",
    "    def say(self):\n",
    "        print('B')\n",
    "b = B()\n",
    "b.say()\n",
    "\n",
    "isinstance(b,B)#判断对象是否从类来的\n",
    "isinstance(b, A)#True\n",
    "issubclass(A,B)#False\n",
    "issubclass(B,A)\n",
    "\n",
    "class C:\n",
    "    x = 550\n",
    "    def say(self):\n",
    "        print('A')\n",
    "class D:\n",
    "    x = 880\n",
    "    y = 330\n",
    "    def say(self):\n",
    "        print('B')\n",
    "class E(C,D):\n",
    "    pass\n",
    "e =E()\n",
    "e.x\n",
    "e.y\n",
    "#从左到右继承，如果A无，则B找"
   ]
  },
  {
   "cell_type": "code",
   "execution_count": 35,
   "id": "b500f91b",
   "metadata": {},
   "outputs": [
    {
     "name": "stdout",
     "output_type": "stream",
     "text": [
      "wo\n",
      "ni\n",
      "ta\n"
     ]
    }
   ],
   "source": [
    "#组合\n",
    "class Turtle:\n",
    "    def say(self):\n",
    "        print('wo')\n",
    "class Cat:\n",
    "    def say(self):\n",
    "        print('ni')\n",
    "class Dog:\n",
    "    def say(self):\n",
    "        print('ta')\n",
    "class Garden:\n",
    "    t = Turtle()\n",
    "    s = Cat()\n",
    "    b = Dog()\n",
    "    def say(self):\n",
    "        self.t.say()\n",
    "        self.s.say()\n",
    "        self.b.say()\n",
    "g = Garden()\n",
    "g.say()"
   ]
  },
  {
   "cell_type": "markdown",
   "id": "7eee883a",
   "metadata": {},
   "source": [
    "类和对象（3）\n",
    "绑定， self 参数的绑定来识别\n",
    "__dict__内省，查看对象属性"
   ]
  },
  {
   "cell_type": "code",
   "execution_count": null,
   "id": "7d1b4f91",
   "metadata": {},
   "outputs": [
    {
     "data": {
      "text/plain": [
       "{}"
      ]
     },
     "execution_count": 41,
     "metadata": {},
     "output_type": "execute_result"
    }
   ],
   "source": [
    "class C:\n",
    "    def set_x(self,v):\n",
    "        self.x = v\n",
    "c =C()\n",
    "c.set_x(5)\n",
    "c.x\n",
    "\n",
    "class C:\n",
    "    def set_x(self,v):\n",
    "        x = v\n",
    "c =C()\n",
    "c.__dict__\n",
    "\n",
    "C.x = 550 #直接在类修改\n",
    "c.x #对象没有，但是会继续往上从类中找\n",
    "c.__dict__ #对象里没有\n"
   ]
  },
  {
   "cell_type": "code",
   "execution_count": null,
   "id": "1ca2fa54",
   "metadata": {},
   "outputs": [
    {
     "data": {
      "text/plain": [
       "{}"
      ]
     },
     "metadata": {},
     "output_type": "display_data"
    }
   ],
   "source": [
    "class C:\n",
    "    def set_x(self,v):\n",
    "        self.x = v\n",
    "c =C()\n",
    "c.set_x(5)\n",
    "c.x\n",
    "\n",
    "class C:\n",
    "    def set_x(self,v):\n",
    "        x = v\n",
    "c =C()\n",
    "c.__dict__\n",
    "\n",
    "C.x = 550 #直接在类修改\n",
    "c.x #对象没有，但是会继续往上从类中找\n",
    "c.__dict__ #对象里没有\n"
   ]
  },
  {
   "cell_type": "code",
   "execution_count": null,
   "id": "a21f6004",
   "metadata": {},
   "outputs": [
    {
     "data": {
      "text/plain": [
       "{}"
      ]
     },
     "metadata": {},
     "output_type": "display_data"
    }
   ],
   "source": [
    "class C:\n",
    "    def set_x(self,v):\n",
    "        self.x = v\n",
    "c =C()\n",
    "c.set_x(5)\n",
    "c.x\n",
    "\n",
    "class C:\n",
    "    def set_x(self,v):\n",
    "        x = v\n",
    "c =C()\n",
    "c.__dict__\n",
    "\n",
    "C.x = 550 #直接在类修改\n",
    "c.x #对象没有，但是会继续往上从类中找\n",
    "c.__dict__ #对象里没有\n"
   ]
  },
  {
   "cell_type": "code",
   "execution_count": null,
   "id": "55b62f26",
   "metadata": {},
   "outputs": [
    {
     "data": {
      "text/plain": [
       "{}"
      ]
     },
     "metadata": {},
     "output_type": "display_data"
    }
   ],
   "source": [
    "class C:\n",
    "    def set_x(self,v):\n",
    "        self.x = v\n",
    "c =C()\n",
    "c.set_x(5)\n",
    "c.x\n",
    "\n",
    "class C:\n",
    "    def set_x(self,v):\n",
    "        x = v\n",
    "c =C()\n",
    "c.__dict__\n",
    "\n",
    "C.x = 550 #直接在类修改\n",
    "c.x #对象没有，但是会继续往上从类中找\n",
    "c.__dict__ #对象里没有\n"
   ]
  },
  {
   "cell_type": "markdown",
   "id": "af37e1ab",
   "metadata": {},
   "source": [
    "类和对象（4）\n",
    "构造函数__init__()\n",
    "重写 子类对父类继承修改\n",
    "钻石继承，super自动搜索父类，避免重复调用\n",
    "mro类的方法解析顺序"
   ]
  },
  {
   "cell_type": "code",
   "execution_count": 54,
   "id": "5a88fff1",
   "metadata": {},
   "outputs": [
    {
     "name": "stdout",
     "output_type": "stream",
     "text": [
      "C\n",
      "B1\n",
      "C\n",
      "B2\n",
      "D\n",
      "C\n",
      "B2\n",
      "B1\n",
      "D\n"
     ]
    },
    {
     "data": {
      "text/plain": [
       "[__main__.D, __main__.B1, __main__.B2, __main__.C, object]"
      ]
     },
     "execution_count": 54,
     "metadata": {},
     "output_type": "execute_result"
    }
   ],
   "source": [
    "class A:\n",
    "    def __init__(self, x, y):\n",
    "        '''左边是绑定到实例化对象的属性，右边是给出参数'''\n",
    "        self.x = x\n",
    "        self.y = y\n",
    "    def add(self):\n",
    "        return self.x + self.y\n",
    "    def mul(self):\n",
    "        return self.x * self.y\n",
    "a = A(2,3)\n",
    "a.add()\n",
    "class B(A):\n",
    "    def __init__(self, x, y, z):\n",
    "        '''左边是绑定到实例化对象的属性，右边是给出参数'''\n",
    "        A.__init__(self, x, y) #注意\n",
    "        self.z = z\n",
    "    def add(self):\n",
    "        return A.add(self) + self.z\n",
    "    def mul(self):\n",
    "        return A.mul(self) * self.z\n",
    "b = B(2,3,5)\n",
    "b.add()\n",
    "\n",
    "class C:\n",
    "    def __init__(self):\n",
    "        print('C')\n",
    "class B1(C):\n",
    "    def __init__(self):\n",
    "        C.__init__(self)\n",
    "        print('B1')\n",
    "class B2(C):\n",
    "    def __init__(self):\n",
    "        C.__init__(self)\n",
    "        print('B2')\n",
    "class D(B1,B2):\n",
    "    def __init__(self):\n",
    "        B1.__init__(self)\n",
    "        B2.__init__(self)\n",
    "        print('D')\n",
    "d = D()\n",
    "#上面是钻石继承，这样会重复调用C\n",
    "#需要super\n",
    "class C:\n",
    "    def __init__(self):\n",
    "        print('C')\n",
    "class B1(C):\n",
    "    def __init__(self):\n",
    "        super().__init__()\n",
    "        print('B1')\n",
    "class B2(C):\n",
    "    def __init__(self):\n",
    "        super().__init__()\n",
    "        print('B2')\n",
    "class D(B1,B2):\n",
    "    def __init__(self):\n",
    "        super().__init__()\n",
    "        print('D')\n",
    "d = D()\n",
    "D.mro()"
   ]
  },
  {
   "cell_type": "markdown",
   "id": "9d93ed1c",
   "metadata": {},
   "source": [
    "类和对象（5）\n",
    "mixin及案例，设计模式\n",
    "一般通用功能抽取封装到Mixin类\n",
    "凡是需要Mixin类功能的类都区通过多继承来获取Mix类功能\n",
    "\n",
    "有一说是 “永远不要对 Mixin 类进行实例化”，你觉得这种说法的依据是什么？\n",
    "答：因为 Mixin 类通常是作为插件的形式存在，是提供方法实现的类，所以实例化此类对象没有意义。"
   ]
  },
  {
   "cell_type": "code",
   "execution_count": 68,
   "id": "43f5917d",
   "metadata": {},
   "outputs": [
    {
     "name": "stdout",
     "output_type": "stream",
     "text": [
      "yesfishc,no10\n",
      "pig\n",
      "飞\n"
     ]
    }
   ],
   "source": [
    "class Ani:\n",
    "    def __init__(self, name ,age):\n",
    "        self.name = name\n",
    "        self.age = age\n",
    "    def say(self):\n",
    "        print(f'yes{self.name},no{self.age}')\n",
    "class FlyMixin:\n",
    "    def fly(self):\n",
    "        print('飞')\n",
    "class Pig(Ani, FlyMixin):\n",
    "    def special(self):\n",
    "        print('pig')\n",
    "p = Pig(\"fishc\",10)\n",
    "p.say()\n",
    "p.special()\n",
    "p.fly()"
   ]
  },
  {
   "cell_type": "markdown",
   "id": "aee30929",
   "metadata": {},
   "source": [
    "类和对象（6）\n",
    "多态是一种特性\n",
    "多态：同一个运算符、函数或对象在不同场景下不同技能(操作)\n",
    "    类继承的多态（子类重写父类方法），函数的多态（给函数传递不同实例对象）\n",
    "鸭子类型，有行为是否符合要求"
   ]
  },
  {
   "cell_type": "code",
   "execution_count": 80,
   "id": "0f2566dc",
   "metadata": {},
   "outputs": [
    {
     "name": "stdout",
     "output_type": "stream",
     "text": [
      "我是mi,今年5\n",
      "cat\n",
      "我是bu,今年6\n",
      "dog\n",
      "我是peiqi,今年8\n",
      "pig\n",
      "我有intro\n",
      "我有say\n"
     ]
    }
   ],
   "source": [
    "#ex\n",
    "class Shape:\n",
    "    def __init__(self, name):\n",
    "        self.name =name\n",
    "    def area(self):\n",
    "        pass\n",
    "class Square(Shape):\n",
    "    def __init__(self, length):\n",
    "        super().__init__(\"正方形\")\n",
    "        self.length = length\n",
    "    def area(self):\n",
    "        return self.length ** 2\n",
    "class Circle(Shape):\n",
    "    def __init__(self, radius):\n",
    "        super().__init__(\"圆形\")\n",
    "        self.radius = radius\n",
    "    def area(self):\n",
    "        return (self.radius ** 2) *3.14\n",
    "s = Square(3)\n",
    "c = Circle(2)\n",
    "s.area()\n",
    "c.area()\n",
    "s.name\n",
    "c.name\n",
    "\n",
    "#函数多态\n",
    "class Cat:\n",
    "    def __init__(self, name, age):\n",
    "        self.name = name\n",
    "        self.age = age\n",
    "    def intro(self):\n",
    "        print(f'我是{self.name},今年{self.age}')\n",
    "    def say(self):\n",
    "        print('cat')\n",
    "class Dog:\n",
    "    def __init__(self, name, age):\n",
    "        self.name = name\n",
    "        self.age = age\n",
    "    def intro(self):\n",
    "        print(f'我是{self.name},今年{self.age}')\n",
    "    def say(self):\n",
    "        print('dog')\n",
    "class Pig:\n",
    "    def __init__(self, name, age):\n",
    "        self.name = name\n",
    "        self.age = age\n",
    "    def intro(self):\n",
    "        print(f'我是{self.name},今年{self.age}')\n",
    "    def say(self):\n",
    "        print('pig')\n",
    "\n",
    "c = Cat(\"mi\",5)\n",
    "d = Dog(\"bu\",6)\n",
    "p = Pig(\"peiqi\",8)\n",
    "def animal(x):\n",
    "    x.intro()\n",
    "    x.say()\n",
    "animal(c)\n",
    "animal(d)\n",
    "animal(p)\n",
    "#鸭子类型\n",
    "class Yazi:\n",
    "    def intro(self):\n",
    "        print('我有intro')\n",
    "    def say(self):\n",
    "        print('我有say')\n",
    "ya = Yazi()\n",
    "animal(ya)"
   ]
  },
  {
   "cell_type": "markdown",
   "id": "0fd44fef",
   "metadata": {},
   "source": [
    "类和对象（7）\n",
    "1、私有变量：__开头，发生在类实例化对象的过程\n",
    "\n",
    "单下横线变量通常是仅供内部使用，约定俗成。\n",
    "实例变量外部是可以访问的，但是，按照约定俗成的规定，当你看到这样的变量时，\n",
    "意思就是，“虽然我可以被访问，但是，请把我视为私有变量，不要随意访问\n",
    "_单下横线开头变量\n",
    "单下横线结尾变量_\n",
    "\n",
    "2、效率提升\n",
    "__dict__对象属性存放的地方\n",
    "避免浪费，没有动态属性__slots__,固定属性\n",
    "继承自父类的__slots__属性不会在子类中生效"
   ]
  },
  {
   "cell_type": "code",
   "execution_count": 100,
   "id": "7cb3efb4",
   "metadata": {},
   "outputs": [
    {
     "name": "stdout",
     "output_type": "stream",
     "text": [
      "20\n"
     ]
    },
    {
     "data": {
      "text/plain": [
       "{'z': 12}"
      ]
     },
     "execution_count": 100,
     "metadata": {},
     "output_type": "execute_result"
    }
   ],
   "source": [
    "class A:\n",
    "    def __init__(self, x):\n",
    "        self.__x = x\n",
    "    def set_x(self,x):\n",
    "        self.__x = x\n",
    "    def get_x(self):\n",
    "        print(self.__x)\n",
    "a = A(20)\n",
    "a.get_x()\n",
    "a.set_x(10)\n",
    "a.__dict__\n",
    "a._A__x#如果一定要访问私有变量\n",
    "a.__y = 30# __y没有变成私有变量，只发生在类实例化过程\n",
    "a.__dict__\n",
    "a.__dict__['z'] = 50#通过dict形式添加\n",
    "a.z\n",
    "#class B:\n",
    "#    def __func(self):\n",
    "#        print('yes')\n",
    "#b = B()\n",
    "class C:\n",
    "    __slots__ =[\"x\", \"y\"]\n",
    "    def __init__(self, x):\n",
    "        self.x = x\n",
    "c = C(15)\n",
    "c.x\n",
    "c.y = 30\n",
    "c.y\n",
    "#c.z =50,不能添加\n",
    "class D(C):\n",
    "    pass\n",
    "d = D(50)\n",
    "d.z =12\n",
    "d.z\n",
    "d.__dict__"
   ]
  },
  {
   "cell_type": "markdown",
   "id": "9bcd793c",
   "metadata": {},
   "source": [
    "类和对象（8）\n",
    "\n",
    "魔法__new__(cls[,...])其实是__init__之前调用，用于创建类的实例\n",
    "对象，后续才是self绑定\n",
    "利用了 Python 的类继承特性，通过重写__new__方法（因为字符串是不可变类型，需要在创建时就处理值），实现了对字符串的自动转换处理\n",
    "\n",
    "魔法__del__(self)对象销毁前的最后拦截"
   ]
  },
  {
   "cell_type": "code",
   "execution_count": null,
   "id": "6cc894a3",
   "metadata": {},
   "outputs": [
    {
     "name": "stdout",
     "output_type": "stream",
     "text": [
      "创建\n",
      "销毁\n"
     ]
    },
    {
     "data": {
      "text/plain": [
       "<function __main__.outter.<locals>.inner(y=None)>"
      ]
     },
     "execution_count": 131,
     "metadata": {},
     "output_type": "execute_result"
    }
   ],
   "source": [
    "class Cap(str):\n",
    "    def __new__(cls, string):\n",
    "        string = string.upper()\n",
    "        return super().__new__(cls, string) #super一定要加（）\n",
    "#不可变对象进行修改，在创建对象前进行拦截\n",
    "cs = Cap(\"Fishc\")\n",
    "cs\n",
    "\n",
    "class C:\n",
    "    def __init__(self):\n",
    "        print('创建')\n",
    "    def __del__(self):\n",
    "        print('销毁')\n",
    "c = C()\n",
    "# del c\n",
    "b = c #如果del c没有用，该对象已被引用\n",
    "del b\n",
    "\n",
    "##销毁前把对象传递出去\n",
    "class D:\n",
    "    def __init__(self, name):\n",
    "        self.name = name\n",
    "    def __del__(self):\n",
    "        global x\n",
    "        x = self\n",
    "d = D(\"小甲鱼\") #在销毁前通过变成全局变量传出去\n",
    "del d \n",
    "x.name\n",
    "##销毁前通过闭包传递出去\n",
    "class E:\n",
    "    def __init__(self, name, func):\n",
    "        self.name = name\n",
    "        self.func = func\n",
    "    def __del__(self):\n",
    "        self.func(self)\n",
    "def outter():\n",
    "    x = 0\n",
    "    def inner(y=None):\n",
    "        nonlocal x\n",
    "        if y:\n",
    "            x = y\n",
    "        else:\n",
    "            return x\n",
    "    return inner\n",
    "f = outter()\n",
    "e = E(\"小甲鱼\", f)\n",
    "e.name\n",
    "del e\n",
    "#del e：删除e，触发E的__del__方法，执行self.func(self)→inner(e)，此时闭包中的x被赋值为e（即保存了被删除的e的引用）。\n",
    "g = f()\n",
    "#调用inner()（无参数），返回闭包中保存的x（即之前的e实例），因此g就是被 “保存” 的e\n",
    "g\n",
    "g.name\n"
   ]
  },
  {
   "cell_type": "markdown",
   "id": "e588e18c",
   "metadata": {},
   "source": [
    "类和对象（9）\n",
    "\"D:\\py\\小甲鱼第二版最新版\\速查宝典\\运算相关的魔法方法大合集,《零基础入门学习Python》【最新版】,Python交流,鱼C论坛 - Powered by Discuz! (2023_4_10 13_18_54).html\""
   ]
  },
  {
   "cell_type": "code",
   "execution_count": 2,
   "id": "b31df468",
   "metadata": {},
   "outputs": [
    {
     "name": "stdout",
     "output_type": "stream",
     "text": [
      "12\n"
     ]
    }
   ],
   "source": [
    "\n",
    "class S(str):\n",
    "    def __add__(self, other):\n",
    "        return len(self) + len(other)      \n",
    "s1 = S(\"FishC\")\n",
    "s2 = S(\"Python\")\n",
    "s1 + s2#等价s1.__add__(s2)\n",
    "s1 + 'hehe'#等价s1.__add__('hehe')\n",
    "'hehd' + s2 #拼接字符串\n",
    "\n",
    "class S1(str):\n",
    "    def __add__(self, other):\n",
    "        return NotImplemented\n",
    "class S2(str):\n",
    "    def __radd__(self, other):\n",
    "        return len(self) + len(other)\n",
    "s1 = S1(\"Apple\")\n",
    "s2 = S2(\"Banana\")\n",
    "s1 + s2#不同类的对象，且__add__返回NotImplemented或者__add__无定义\n",
    "print('heheda' + s2)\n",
    "\n",
    "class S1(str):\n",
    "    def __iadd__(self, other):\n",
    "        return len(self) + len(other)\n",
    "s1 = S1(\"Apple\")\n",
    "s1 += s2\n",
    "s1\n",
    "type(s1)#返回字符串整数\n",
    "\n",
    "# __int__() 拦截 int() 函数的调用流程\n",
    "class ZH_INT:\n",
    "    def __init__(self, num):\n",
    "        self.num = num\n",
    "    def __int__(self):\n",
    "        #通捕获ValueError异常后利用字典实现映射\n",
    "        try:\n",
    "            return int(self.num)\n",
    "        except ValueError:\n",
    "            zh = {\"零\":0, \"一\":1, \"二\":2, \"三\":3, \"四\":4, \"五\":5, \"六\":6, \"七\":7, \"八\":8, \"九\":9,\n",
    "                \"壹\":1, \"贰\":2, \"叁\":3, \"肆\":4, \"伍\":5, \"陆\":6, \"柒\":7, \"捌\":8, \"玖\":9, }\n",
    "            result = 0\n",
    "            \n",
    "            for each in self.num:\n",
    "                if each in zh:\n",
    "                    result += zh[each]\n",
    "                else:\n",
    "                    result += int(each)\n",
    "                result *= 10\n",
    "            \n",
    "            return result // 10"
   ]
  },
  {
   "cell_type": "markdown",
   "id": "ed45d4d8",
   "metadata": {},
   "source": [
    "类和对象（10）"
   ]
  },
  {
   "cell_type": "code",
   "execution_count": 3,
   "id": "ba410180",
   "metadata": {},
   "outputs": [
    {
     "name": "stdout",
     "output_type": "stream",
     "text": [
      "0b10\n",
      "0b11\n",
      "0b100\n"
     ]
    },
    {
     "data": {
      "text/plain": [
       "-4"
      ]
     },
     "execution_count": 3,
     "metadata": {},
     "output_type": "execute_result"
    }
   ],
   "source": [
    "print(bin(2))\n",
    "print(bin(3))\n",
    "print(bin(4))\n",
    "2 & 3 | 4\n",
    "2 << 3\n",
    "~3#补码是一种表示有符号整数的方法，为了表示负数\n",
    "\n"
   ]
  },
  {
   "cell_type": "markdown",
   "id": "9984e2f4",
   "metadata": {},
   "source": [
    "类和对象（11）\n",
    "属性访问\n",
    "hasattr()检测对象是否有某属性\n",
    "getattr()获取对象属性值\n",
    "setarrr()设置对象属性值\n",
    "delattr()删除对象属性值"
   ]
  },
  {
   "cell_type": "code",
   "execution_count": null,
   "id": "34137a31",
   "metadata": {},
   "outputs": [
    {
     "name": "stdout",
     "output_type": "stream",
     "text": [
      "True\n",
      "小甲鱼\n",
      "18\n",
      "大甲鱼\n",
      "False\n",
      "拦截\n",
      "拦截\n",
      "执行这个\n",
      "None\n"
     ]
    },
    {
     "data": {
      "text/plain": [
       "{}"
      ]
     },
     "execution_count": 183,
     "metadata": {},
     "output_type": "execute_result"
    }
   ],
   "source": [
    "class C:\n",
    "    def __init__(self, name, age):\n",
    "        self.name = name\n",
    "        self.__age = age\n",
    "c = C(\"小甲鱼\", 18)\n",
    "print(hasattr(c,\"name\"))\n",
    "print(getattr(c,\"name\"))\n",
    "print(getattr(c,\"_C__age\"))\n",
    "setattr(c, 'name', '大甲鱼')\n",
    "print(getattr(c,\"name\"))\n",
    "delattr(c,'name')\n",
    "print(hasattr(c,\"name\"))\n",
    "\n",
    "class D:\n",
    "    def __init__(self, name, age):\n",
    "        self.name = name\n",
    "        self.__age = age\n",
    "    def __getattribute__(self, attrname):\n",
    "        print('拦截')\n",
    "        return super().__getattribute__(attrname)\n",
    "d = D(\"小甲鱼\", 18)\n",
    "getattr(d,'name')\n",
    "\n",
    "#对于不存在属性\n",
    "#跟访问属性有关系，只有在用户试图获取一个不存在的属性时才会被触发\n",
    "class D:\n",
    "    def __init__(self, name, age):\n",
    "        self.name = name\n",
    "        self.__age = age\n",
    "    def __getattribute__(self, attrname):\n",
    "        print('拦截')\n",
    "        return super().__getattribute__(attrname)\n",
    "    def __getattr__(self, attrname):\n",
    "        if attrname == 'Fishc':\n",
    "            print('执行这个')\n",
    "        else:\n",
    "            raise AttributeError(attrname)\n",
    "d = D(\"小甲鱼\", 18)\n",
    "print(d.Fishc)\n",
    "#d.x\n",
    "\n",
    "#设置和删除，都需要利用__dict__绕开\n",
    "class E:\n",
    "    def __setattr__(self, name, value):\n",
    "        #self.name = value 如果是这样会无限递归\n",
    "        #因为每次赋值都会触发\n",
    "        self.__dict__[name] = value\n",
    "    def __delattr__(self, name):\n",
    "        del self.__dict__[name]\n",
    "e = E()\n",
    "e.name = '小甲鱼'\n",
    "e.__dict__\n",
    "del e.name\n",
    "e.__dict__\n"
   ]
  },
  {
   "cell_type": "markdown",
   "id": "65b7190a",
   "metadata": {},
   "source": [
    "类和对象（12）\n",
    "索引，切片，迭代协议\n",
    "    1、当对象被索引时,切片,会拦截__getitem__和__setitem__\n",
    "    2、两个魔法方法__iter__(self)和__next__(self)可迭代对象和迭代生成器"
   ]
  },
  {
   "cell_type": "code",
   "execution_count": 15,
   "id": "e19b5290",
   "metadata": {},
   "outputs": [
    {
     "name": "stdout",
     "output_type": "stream",
     "text": [
      "2\n",
      "slice(2, 4, None)\n",
      "love\n",
      "love\n",
      "ve python\n",
      "ve python\n",
      "Ilv yhn\n",
      "Ilv yhn\n",
      "2\n",
      "7\n",
      "1\n",
      "2\n",
      "3\n",
      "4\n",
      "2 4 6 8 10 4 6 8 10 12 "
     ]
    }
   ],
   "source": [
    "class C:\n",
    "    def __getitem__(self, index):\n",
    "        print(index)\n",
    "c = C()\n",
    "c[2]\n",
    "c[2:4]#返回切片\n",
    "s = 'I love python'\n",
    "print(s[2:6])\n",
    "print(s[slice(2,6)])\n",
    "print(s[4:])\n",
    "print(s[slice(4,None)])\n",
    "print(s[::2])\n",
    "print(s[slice(None,None,2)])\n",
    "\n",
    "class D:\n",
    "    def __init__(self, data):\n",
    "        self.data = data\n",
    "    def __getitem__(self, index):\n",
    "        return self.data[index]\n",
    "    def __setitem__(self, index, value):\n",
    "        self.data[index] = value\n",
    "d = D([1,2,3,4,5])\n",
    "print(d[1])\n",
    "d[1]=7\n",
    "print(d[1])\n",
    "\n",
    "x = [1,2,3,4]\n",
    "_ = iter(x)\n",
    "while True:\n",
    "    try:\n",
    "        i = _.__next__()\n",
    "    except StopIteration:\n",
    "        break\n",
    "    print(i)\n",
    "\n",
    "#实现起始到终止类似for循环，但是值是原来2倍\n",
    "class Double:\n",
    "    def __init__(self, start, stop):\n",
    "        self.value = start - 1 #为了保证初始值和后续返回正确\n",
    "        self.stop = stop\n",
    "    def __iter__(self):\n",
    "        return self\n",
    "    def __next__(self):\n",
    "        if self.value == self.stop:\n",
    "            raise StopIteration\n",
    "        else:\n",
    "            self.value +=1\n",
    "            return self.value * 2\n",
    "        \n",
    "class Doublenew:\n",
    "    def __init__(self, start, stop):\n",
    "        self.value = start\n",
    "        self.stop = stop\n",
    "    def __iter__(self):\n",
    "        return self\n",
    "    def __next__(self):\n",
    "        if self.value > self.stop:\n",
    "            raise StopIteration\n",
    "        else:\n",
    "            res = self.value * 2\n",
    "            self.value += 1\n",
    "            return res\n",
    "e = Double(1,5)\n",
    "e1 = Doublenew(2,6)\n",
    "for i in e:\n",
    "    print(i, end= ' ')\n",
    "for i in e1:\n",
    "    print(i, end= ' ')"
   ]
  },
  {
   "cell_type": "markdown",
   "id": "611bafa4",
   "metadata": {},
   "source": [
    "类和对象（13）\n",
    "代偿\n",
    "成员关系检测__contains(self, item)：\n",
    "    如果没有则寻找代偿来实现，选__iter__和__next__或者__getitem__\n",
    "布尔类型__bool__(self):\n",
    "    代偿实现__len__(self)\n",
    "比较运算相关魔法方法：\n",
    "    < 小于__lt__(self， other)\n",
    "    <= 小于等于__le__(self, other)\n",
    "    > 大于__gt__(sellf, other)\n",
    "    >= 大于等于__ge__(self, other)\n",
    "    = 等于__eq__(self, other)\n",
    "    != 不等于__ne__(self, other)"
   ]
  },
  {
   "cell_type": "code",
   "execution_count": null,
   "id": "9dd745d2",
   "metadata": {},
   "outputs": [
    {
     "name": "stdout",
     "output_type": "stream",
     "text": [
      "start\n",
      "start\n",
      "start->next->next->next->len\n"
     ]
    },
    {
     "data": {
      "text/plain": [
       "True"
      ]
     },
     "execution_count": 23,
     "metadata": {},
     "output_type": "execute_result"
    }
   ],
   "source": [
    "#类似in\n",
    "class C:\n",
    "    def __init__(self, data):\n",
    "        self.data = data\n",
    "    def __contains__(self, item):\n",
    "        print('start')\n",
    "        return item in self.data\n",
    "c = C([1,2,3,4,5])\n",
    "3 in c #此时 3 作为item传递\n",
    "6 in c\n",
    "##实现代偿__contains__\n",
    "#__contains__() 方法没有被定义时，Python会尝试迭代对象 \n",
    "# (使用 __iter__() 或 __getitem__() 魔法方法) 来检查元素是否包含在其中。\n",
    "class D:\n",
    "    def __init__(self, data):\n",
    "        self.data = data\n",
    "        self.i = 0\n",
    "    def __iter__(self):\n",
    "        print('start', end = '->')\n",
    "        return self\n",
    "    def __next__(self):\n",
    "        print('next',end = '->')\n",
    "        if self.i == len(self.data):\n",
    "            raise StopIteration\n",
    "        item = self.data[self.i]\n",
    "        self.i += 1\n",
    "        return item\n",
    "   #__contains__ = None 会报错，没有后续代偿 \n",
    "d = D([1,2,3,4,5])\n",
    "3 in d\n"
   ]
  },
  {
   "cell_type": "code",
   "execution_count": 5,
   "id": "ee1522a2",
   "metadata": {},
   "outputs": [
    {
     "name": "stdout",
     "output_type": "stream",
     "text": [
      "len\n"
     ]
    },
    {
     "data": {
      "text/plain": [
       "True"
      ]
     },
     "execution_count": 5,
     "metadata": {},
     "output_type": "execute_result"
    }
   ],
   "source": [
    "class E:\n",
    "    def __bool__(self):\n",
    "        print('bool')\n",
    "        return True\n",
    "class F:\n",
    "    def __init__(self, data):\n",
    "        self.data = data\n",
    "    def __len__(self):\n",
    "        print('len')\n",
    "        return len(self.data)\n",
    "f = F('fishc')\n",
    "bool(f)"
   ]
  },
  {
   "cell_type": "code",
   "execution_count": 1,
   "id": "9d9e623a",
   "metadata": {},
   "outputs": [
    {
     "name": "stdout",
     "output_type": "stream",
     "text": [
      "False\n",
      "True\n",
      "True\n"
     ]
    }
   ],
   "source": [
    "class Bstr(str):\n",
    "    def __lt__(self, other):\n",
    "        return len(self) < len(other)\n",
    "    def __gt__(self, other):\n",
    "        return len(self) > len(other)\n",
    "    def __eq__(self, other):\n",
    "        return len(self) == len(other)\n",
    "    __ne__ = None #将方法赋值为None，不希望其出现\n",
    "bs1 = Bstr('FishC')\n",
    "bs2 = Bstr('Fishc')\n",
    "print(bs1 > bs2)\n",
    "print(bs1 <= bs2)#这里是调用继承自str的比较方法（比较字符串编码）\n",
    "print(bs1 == bs2)"
   ]
  },
  {
   "cell_type": "markdown",
   "id": "4e6a7c51",
   "metadata": {},
   "source": [
    "类和对象（14）\n",
    "对象调用相关魔法方法\n",
    "    调用函数一样调用对象，使用__call__\n",
    "字符串相关__str__将参数转为字符串和__repr__将对象转化为程序可以执行的字符串"
   ]
  },
  {
   "cell_type": "code",
   "execution_count": null,
   "id": "c21135f4",
   "metadata": {},
   "outputs": [
    {
     "name": "stdout",
     "output_type": "stream",
     "text": [
      "位置参数(1, 2, 3)\n",
      "关键字参数{'x': 10, 'y': 20}\n"
     ]
    },
    {
     "data": {
      "text/plain": [
       "64"
      ]
     },
     "execution_count": 14,
     "metadata": {},
     "output_type": "execute_result"
    }
   ],
   "source": [
    "class C:\n",
    "    def __call__(self, *args, **kwds):\n",
    "        print(f'位置参数{args}\\n关键字参数{kwds}')\n",
    "c = C()\n",
    "c(1 ,2 ,3, x=10, y=20)\n",
    "\n",
    "class Power:\n",
    "    def __init__(self,exp):\n",
    "        self.exp =exp\n",
    "    def __call__(self, base):\n",
    "        return base ** self.exp\n",
    "p = Power(3)\n",
    "p(4)#像函数调用"
   ]
  },
  {
   "cell_type": "code",
   "execution_count": null,
   "id": "0d259fe8",
   "metadata": {},
   "outputs": [
    {
     "name": "stdout",
     "output_type": "stream",
     "text": [
      "[<__main__.D object at 0x00000192310C6330>, <__main__.D object at 0x00000192310C7BC0>, <__main__.D object at 0x00000192310C5FD0>]\n",
      "learn pyhton\n",
      "learn pyhton\n",
      "learn pyhton\n",
      "[learn pyhton, learn pyhton, learn pyhton]\n",
      "data=100\n"
     ]
    },
    {
     "data": {
      "text/plain": [
       "C(300)"
      ]
     },
     "execution_count": 29,
     "metadata": {},
     "output_type": "execute_result"
    }
   ],
   "source": [
    "#两者都是返回字符串\n",
    "str(123)\n",
    "repr(123)\n",
    "#\n",
    "str('fishc')\n",
    "repr('fishc')#\"'fishc'\"\n",
    "\n",
    "eval('1+2')#参数去引号后执行\n",
    "eval(repr(\"fishc\"))# evale(str('fishc'))会报错，因为没有fishc这个变量\n",
    "\n",
    "class C:\n",
    "    def __repr__(self):\n",
    "        return 'learn pyhton'\n",
    "c=C()\n",
    "repr(c)\n",
    "str(c)#如果没有在类定义str方法，repr是str的代偿\n",
    "#__str__只能应用在对象出现打印操作的顶层\n",
    "class D:\n",
    "    def __str__(self):\n",
    "        return 'learn pyhton'\n",
    "class Da:\n",
    "    def __repr__(self):\n",
    "        return 'learn pyhton'\n",
    "d = [D(), D(), D()]\n",
    "print(d)\n",
    "for each in d:\n",
    "    print(each)\n",
    "da = [Da(), Da(), Da()]\n",
    "print(da)\n",
    "\n",
    "class E:\n",
    "    def __init__(self, data):\n",
    "        self.data = data\n",
    "    def __str__(self):\n",
    "        return f'data={self.data}'\n",
    "    def __repr__(self):\n",
    "        return f'C({self.data})'\n",
    "    def __add__(self, other):\n",
    "        self.data += other#注意这里是赋值操作\n",
    "e = E(100)\n",
    "print(e)\n",
    "e\n",
    "e + 200\n",
    "e"
   ]
  },
  {
   "cell_type": "markdown",
   "id": "b887dcdf",
   "metadata": {},
   "source": [
    "类和对象（15）\n",
    "class property(fget=None, fset=None, fdel=None, doc=None)\n",
    "返回property属性对象"
   ]
  },
  {
   "cell_type": "code",
   "execution_count": null,
   "id": "34141a6f",
   "metadata": {},
   "outputs": [
    {
     "name": "stdout",
     "output_type": "stream",
     "text": [
      "200\n"
     ]
    },
    {
     "data": {
      "text/plain": [
       "250"
      ]
     },
     "execution_count": 12,
     "metadata": {},
     "output_type": "execute_result"
    }
   ],
   "source": [
    "class C:\n",
    "    def __init__(self):\n",
    "        self._x = 200\n",
    "    def getx(self):\n",
    "        return self._x\n",
    "    def setx(self, value):\n",
    "        self._x = value\n",
    "    def delx(self):\n",
    "        del self._x\n",
    "    x = property(getx,setx,delx)\n",
    "c = C()\n",
    "#通过 x 来代理 _x\n",
    "print(c.x)\n",
    "c.x = 300\n",
    "c.__dict__\n",
    "del c.x\n",
    "c.__dict__\n",
    "\n",
    "#如果通过getattr,setattr和delattr实现\n",
    "class D:\n",
    "    def __init__(self):\n",
    "        self._x = 250\n",
    "    def __getattr__(self, name):\n",
    "        if name =='x':\n",
    "            return self._x\n",
    "        else:\n",
    "            return super().__getattr__(name)#交给父类\n",
    "        #object 类本身并没有定义 __getattr__ 方法。\n",
    "        # 这意味着当你调用 super().__getattr__(name) 时，\n",
    "        # 由于父类（object）中没有这个方法，Python 会抛出 AttributeError，提示 “属性不存在”。\n",
    "    def __setattr__(self, name, value):\n",
    "        if name =='x':\n",
    "            return super().__setattr__('_x',name)\n",
    "        else:\n",
    "            return super().__setattr__(name,value)#交给父类\n",
    "        #调用的是 object 类的默认 __setattr__，它会直接在实例的 __dict__ 中添加 '_x': value\n",
    "        # 完成赋值，且不会再次触发 D 类自己的 __setattr__（避免了递归）\n",
    "    def __delattr__(self, name):\n",
    "        if name =='x':\n",
    "            return super().__delattr__('_x')\n",
    "        else:\n",
    "            return super().__delattr__(name)#交给父类\n",
    "d = D()\n",
    "d.x\n",
    "\n",
    "#property做装饰器\n",
    "class E:\n",
    "    def __init__(self):\n",
    "        self._x = 250\n",
    "    @property\n",
    "    def x(self):\n",
    "        return self._x#方法 “转换” 为一个属性的获取器\n",
    "    #这里实现的是 x = property(x),把返回值给x\n",
    "    @x.setter\n",
    "    # @property 衍生的装饰器，用于给前面定义的 x 属性添加设置器\n",
    "    def x(self, value):\n",
    "        self._x = value\n",
    "    @x.deleter # x 属性添加删除器\n",
    "    def x(self):\n",
    "        del self._x\n",
    "e =E()\n",
    "e.x = 500\n",
    "e.__dict__"
   ]
  },
  {
   "cell_type": "markdown",
   "id": "493a6550",
   "metadata": {},
   "source": [
    "类和对象（16）\n",
    "类方法：\n",
    "    专门用于绑定类的方法，通过@classmethod装饰器\n",
    "静态类：\n",
    "    类里面定义一个不需要绑定的函数，注意类里的方法是绑定到实例化对象\n",
    "    实现与类相关但不依赖类 / 实例属性的工具函数\n",
    "    @staticmethod\n",
    "根据应用场景选择，比如是否涉及到类属性\n"
   ]
  },
  {
   "cell_type": "code",
   "execution_count": null,
   "id": "fa1c4635",
   "metadata": {},
   "outputs": [
    {
     "name": "stdout",
     "output_type": "stream",
     "text": [
      "<__main__.C object at 0x0000010EC24ED220>\n",
      "<class '__main__.C'>\n",
      "实例化了3个对象\n",
      "实例化了3个对象\n",
      "实例化了3个对象\n",
      "实例化了2个对象\n",
      "实例化了2个对象\n",
      "实例化了2个对象\n",
      "实例化了5个对象\n"
     ]
    }
   ],
   "source": [
    "class C:\n",
    "    def funa(self):\n",
    "        print(self)\n",
    "    @classmethod\n",
    "    def funb(cls):\n",
    "        print(cls)\n",
    "c = C()\n",
    "c.funa()\n",
    "c.funb()\n",
    "\n",
    "#example,对类的对象统计\n",
    "class Ca:\n",
    "    count = 0\n",
    "    def __init__(self):\n",
    "        Ca.count += 1\n",
    "    @classmethod\n",
    "    def get_count(cls):\n",
    "        print(f'实例化了{cls.count}个对象')\n",
    "c1, c2 ,c3 = Ca(), Ca(), Ca()\n",
    "c1.get_count()\n",
    "Ca.get_count()\n",
    "c1.count =1#不会影响类属性\n",
    "c1.get_count()\n",
    "\n",
    "class Cb:\n",
    "    count = 0\n",
    "    def __init__(self):\n",
    "        Cb.count += 1\n",
    "    @staticmethod\n",
    "    def get_count():\n",
    "        print(f'实例化了{Cb.count}个对象')\n",
    "b1, b2 = Cb(), Cb()\n",
    "b1.get_count()\n",
    "Cb.get_count()#也可以通过类直接用\n",
    "\n",
    "#涉及到继承，example回到各自的类统计，通过类方法实现\n",
    "class E:\n",
    "    count = 0\n",
    "    @classmethod\n",
    "    def add(cls):\n",
    "        cls.count += 1\n",
    "    def __init__(self):\n",
    "        self.add()\n",
    "    @classmethod\n",
    "    def get_count(cls):\n",
    "        print(f'实例化了{cls.count}个对象')\n",
    "class F(E):#继承时，覆盖count属性,如果不覆盖就会累加父类\n",
    "    count = 0\n",
    "e1, e2 = E(), E()\n",
    "f1, f2, f3 = F(), F(), F()\n",
    "e1.get_count()\n",
    "f1.get_count()"
   ]
  },
  {
   "cell_type": "markdown",
   "id": "9255530f",
   "metadata": {},
   "source": [
    "类和对象，困难部分 1：\n",
    "    描述符，只要实现__get__(self,instance,owner=None)或__set__(self,instance,value)或__delete__(self, instance)三个中任意一个或多个的类叫描述符"
   ]
  },
  {
   "cell_type": "code",
   "execution_count": null,
   "id": "77ad04b7",
   "metadata": {},
   "outputs": [
    {
     "name": "stdout",
     "output_type": "stream",
     "text": [
      "getting... <__main__.MyDescriptor object at 0x0000010EC249CEC0>\n",
      "<__main__.Test object at 0x0000010EC25B4CE0>\n",
      "<class '__main__.Test'>\n",
      "setting... <__main__.MyDescriptor object at 0x0000010EC249CEC0>\n",
      "<__main__.Test object at 0x0000010EC25B4CE0>\n",
      "20\n",
      "delete... <__main__.MyDescriptor object at 0x0000010EC249CEC0>\n",
      "<__main__.Test object at 0x0000010EC25B4CE0>\n"
     ]
    }
   ],
   "source": [
    "class MyDescriptor:\n",
    "    # self是描述符自身的实例；instance是这个描述符的拥有着所在类的实例，在这里也就是Test类的实例；owner是这个描述符的拥有者所在的类本身\n",
    "    def __get__(self, instance, owner):\n",
    "        print(\"getting...\", f'{self}\\n{instance}\\n{owner}')\n",
    "    # 参数value是等号右边的值，就是下面的'X-man'\n",
    "    def __set__(self, instance, value):\n",
    "        print(\"setting...\", f'{self}\\n{instance}\\n{value}')\n",
    "    def __delete__(self, instance):\n",
    "        print(\"delete...\", f'{self}\\n{instance}')\n",
    "#self是描述符类的实例对象,相当于x属性的值\n",
    "#instance是被描述符拦截的属性所在的类的实例对象\n",
    "#owner是被描述符拦截的属性所在的类\n",
    "class Test:\n",
    "    x = MyDescriptor()#只能用在类属性\n",
    "test = Test()\n",
    "test.x\n",
    "test.x =20\n",
    "del test.x\n",
    "\n",
    "class MyProperty:#实现自己的Property\n",
    "    def __init__(self, fget=None, fset=None, fdel=None):\n",
    "        self.fget = fget\n",
    "        self.fset = fset\n",
    "        self.fdel = fdel\n",
    "    def __get__(self, instance, owner):\n",
    "        return self.fget(instance)\n",
    "    def __set__(self, instance, value):\n",
    "        self.fset(instance, value)\n",
    "    def __delete__(self, instance):\n",
    "        self.fdel(instance)\n",
    "    def getter(self, func):\n",
    "        self.fget = func\n",
    "        return self\n",
    "    def setter(self, func):\n",
    "        self.fset = func\n",
    "        return self\n",
    "    def deleter(self, func):\n",
    "        self.fdel = func\n",
    "        return self"
   ]
  },
  {
   "cell_type": "markdown",
   "id": "bee894e0",
   "metadata": {},
   "source": [
    "类和对象，困难部分 2：\n",
    "    实现__set__()或__delete__()数据描述符\n",
    "    实现__get__()非数据描述符\n",
    "当发生属性访问，优先级不同：\n",
    "    先数据描述符，实例对象属性，非数据描述符，最后类属性（类的MRO继承顺序）\n",
    "python3.6新加，描述符第四个魔法方法__set_name__(self, owner, name)\n",
    "特点__set_name__ 是描述符协议的重要补充，它让描述符在类定义阶段就能自动获取自己的属性名，解决了描述符 “不知道自己叫什么” 的问题"
   ]
  },
  {
   "cell_type": "code",
   "execution_count": 40,
   "id": "8ca141d0",
   "metadata": {},
   "outputs": [
    {
     "name": "stdout",
     "output_type": "stream",
     "text": [
      "get\n",
      "set\n",
      "getnew\n",
      "setnew\n"
     ]
    },
    {
     "data": {
      "text/plain": [
       "{'x': 250}"
      ]
     },
     "execution_count": 40,
     "metadata": {},
     "output_type": "execute_result"
    }
   ],
   "source": [
    "#优先级\n",
    "class C:\n",
    "    def __get__(self, instance, owner):\n",
    "        print('get')\n",
    "    def __set__(self, instance, value):\n",
    "        print('set')\n",
    "class D:\n",
    "    x = C()\n",
    "d = D()\n",
    "d.x\n",
    "d.x = 12 #提前被set拦截\n",
    "d.__dict__\n",
    "d.__dict__['x'] = 12\n",
    "d.__dict__\n",
    "\n",
    "#\n",
    "class E:\n",
    "    def __set_name__(self, owner, name):\n",
    "        self.name = name\n",
    "    def __get__(self, instance, owner):\n",
    "        print('getnew')\n",
    "        return instance.__dict__.get(self.name) #属性是否存在\n",
    "    def __set__(self ,instance, value):\n",
    "        print('setnew')\n",
    "        instance.__dict__[self.name] = value #设置属性\n",
    "class F:\n",
    "    x = E()\n",
    "f = F()\n",
    "f.x\n",
    "f.x = 250\n",
    "f.__dict__\n"
   ]
  },
  {
   "cell_type": "markdown",
   "id": "75258ae0",
   "metadata": {},
   "source": [
    "类和对象，困难部分 3：\n",
    "    类装饰器"
   ]
  },
  {
   "cell_type": "code",
   "execution_count": null,
   "id": "7a5a9747",
   "metadata": {},
   "outputs": [
    {
     "name": "stdout",
     "output_type": "stream",
     "text": [
      "即将开始实例化\n",
      "正在实例化\n",
      "结束实例化\n",
      "即将开始实例化\n",
      "正在实例化\n",
      "结束实例化,xixi\n"
     ]
    }
   ],
   "source": [
    "def report(cls):#传入类，像传入函数\n",
    "    def oncall(*args, **kwargs):\n",
    "        print('即将开始实例化')\n",
    "        _ = cls(*args, **kwargs)\n",
    "        print('结束实例化')\n",
    "    return oncall\n",
    "@report\n",
    "class C:\n",
    "    def __init__(self, x, y, z):\n",
    "        self.x = x\n",
    "        self.y = y\n",
    "        self.z = z\n",
    "        print('正在实例化')\n",
    "c = C(1, 2, 3)\n",
    "#等价\n",
    "# C = report(C) \n",
    "# oncall(1, 2, 3) 这里参数被打包传入，是一个元组（1, 2, 3）\n",
    "##因此cls(*srgs, **kwargs) 这里需要解包传入参数\n",
    "\n",
    "def log(msg):#传入参数的类，需要返回 func(cls)里面再进行函数\n",
    "    def report(cls):#传入类，像传入函数\n",
    "        def oncall(*args, **kwargs):\n",
    "            print('即将开始实例化')\n",
    "            _ = cls(*args, **kwargs) # 下划线代表临时变量，在这里实例化\n",
    "            print(f'结束实例化,{msg}')\n",
    "            return _\n",
    "        return oncall\n",
    "    return report\n",
    "@log(msg='xixi')\n",
    "class C:\n",
    "    def __init__(self, x, y, z):\n",
    "        self.x = x\n",
    "        self.y = y\n",
    "        self.z = z\n",
    "        print('正在实例化')\n",
    "c = C(1, 2, 3)"
   ]
  },
  {
   "cell_type": "code",
   "execution_count": null,
   "id": "c4919f3e",
   "metadata": {},
   "outputs": [
    {
     "name": "stdout",
     "output_type": "stream",
     "text": [
      "被调用了1次\n",
      "hi\n",
      "被调用了2次\n",
      "hi\n"
     ]
    }
   ],
   "source": [
    "#类当作装饰器使用，装饰函数（装饰器类）\n",
    "class C:\n",
    "    def __init__(self, func):\n",
    "        self.count = 0\n",
    "        self.func = func\n",
    "    def __call__(self, *args, **kwargs):\n",
    "        self.count += 1\n",
    "        print(f'被调用了{self.count}次')\n",
    "        return self.func(*args, **kwargs)\n",
    "@C\n",
    "def say():\n",
    "    print('hi')\n",
    "#等价\n",
    "# say = C(say) 已经是C的一个实例\n",
    "say #<__main__.C at 0x10ec25b77a0>\n",
    "say() \n",
    "say()"
   ]
  },
  {
   "cell_type": "markdown",
   "id": "f819bebe",
   "metadata": {},
   "source": [
    "类和对象（17）：\n",
    "    type()\n",
    "    第二种使用：type(name,bases,dict,kwds)\n",
    "    name指定要创建类的名字\n",
    "    bases指定要创造类的父类\n",
    "    dict指定要创造类的属性和方法\n",
    "    kwds收集参数，当且仅当需要时，收集参数将被传递给适当的元类机制（通常为__init__subclass()）"
   ]
  },
  {
   "cell_type": "code",
   "execution_count": null,
   "id": "6a121f13",
   "metadata": {},
   "outputs": [
    {
     "name": "stdout",
     "output_type": "stream",
     "text": [
      "<class 'int'>\n",
      "<class 'str'>\n",
      "True\n",
      "500\n",
      "<class 'str'>\n",
      "(1, 2, 3)\n",
      "['f', 'i', 's', 'h', 'c']\n",
      "{'f': 2, 'i': 2, 's': 2, 'h': 2, 'c': 2}\n",
      "<class '__main__.C'>\n",
      "<class '__main__.C'>\n",
      "{'x': 200}\n",
      "{'x': 100}\n"
     ]
    }
   ],
   "source": [
    "print(type(200))\n",
    "print(type('fishc'))\n",
    "print(type(100) is int)\n",
    "\n",
    "print(type(200)(\"500\"))#tyep(100)相当于 int\n",
    "print(type(type(\"fishc\")(200)))\n",
    "print(type(())([1,2,3]))\n",
    "print(type([])(\"fishc\"))\n",
    "print(type({}).fromkeys(\"fishc\",2))\n",
    "\n",
    "class C:\n",
    "    def __init__(self, x):\n",
    "        self.x = x\n",
    "c =C(200)\n",
    "d = type(c)(100)#相当于 d = C(100),type(c)就是class C\n",
    "print(c.__class__)\n",
    "print(d.__class__)\n",
    "print(c.__dict__)\n",
    "print(d.__dict__)"
   ]
  },
  {
   "cell_type": "code",
   "execution_count": null,
   "id": "f495cd1c",
   "metadata": {},
   "outputs": [
    {
     "name": "stdout",
     "output_type": "stream",
     "text": [
      "20\n",
      "30\n",
      "21\n",
      "显示xiao jia yu\n",
      "父类拦截\n"
     ]
    },
    {
     "data": {
      "text/plain": [
       "8"
      ]
     },
     "execution_count": 82,
     "metadata": {},
     "output_type": "execute_result"
    }
   ],
   "source": [
    "class C:\n",
    "    pass\n",
    "D = type('D',(),{})\n",
    "d = D()\n",
    "d.__class__\n",
    "D.__bases__#查看其父类，由于没有定义，自动归为默认的object\n",
    "\n",
    "E = type('E',(C,),{})#第二个必须以元组传入，不要忘记只有一个时加逗号\n",
    "d = E()\n",
    "d.__class__\n",
    "E.__bases__\n",
    "\n",
    "#加入属性\n",
    "F = type('F',(),dict(x = 20, y = 30))\n",
    "f = F()\n",
    "print(f.x)\n",
    "print(f.y)\n",
    "#加入方法\n",
    "def func(self, name = 'tbj'):\n",
    "    print(f'显示{name}')\n",
    "Fa = type('Fa',(),dict(x = 21, sayhi = func))\n",
    "fa = Fa()\n",
    "print(fa.x)\n",
    "fa.sayhi(\"xiao jia yu\")\n",
    "\n",
    "#第四个参数\n",
    "class G:\n",
    "    def __init_subclass__(cls, value1, value2):\n",
    "        print('父类拦截')\n",
    "        cls.x = value1\n",
    "        cls.y = value2\n",
    "H = type('H',(G,),dict(x = 2), value1 =8, value2 =9)\n",
    "h = H\n",
    "h.x\n",
    "\n",
    "\n"
   ]
  },
  {
   "cell_type": "markdown",
   "id": "b34e7ff2",
   "metadata": {},
   "source": [
    "类和对象（18）：\n",
    "    元类（metaclass）,创造类的模板，都是从type来\n",
    "首先__new__ 方法的核心职责是创建对象，因此必须返回一个创建好的对象，否则对象（或类）的创建过程会不完整\n",
    " “创建者”，它的返回值是创建出的 “产物”（实例或类），没有返回值，就没有 “产物”，后续的初始化也就无从谈起\n",
    "其次__init__ 是 “初始化器”，它的核心任务是在对象（实例或类）被创建后，完善其状态"
   ]
  },
  {
   "cell_type": "code",
   "execution_count": 92,
   "id": "e85b4ab6",
   "metadata": {},
   "outputs": [
    {
     "name": "stdout",
     "output_type": "stream",
     "text": [
      "__new__\n",
      "mcls=<class '__main__.MetaC'>\n",
      "name=Cc\n",
      "bases=()\n",
      "attrs={'__module__': '__main__', '__qualname__': 'Cc', '__new__': <function Cc.__new__ at 0x0000010EC28E79C0>, '__init__': <function Cc.__init__ at 0x0000010EC25E0AE0>, '__classcell__': <cell at 0x0000010EC2BB6A70: empty>}\n",
      "__init__\n",
      "cls=<class '__main__.Cc'>\n",
      "name=Cc\n",
      "bases=()\n",
      "attrs={'__module__': '__main__', '__qualname__': 'Cc', '__new__': <function Cc.__new__ at 0x0000010EC28E79C0>, '__init__': <function Cc.__init__ at 0x0000010EC25E0AE0>, '__classcell__': <cell at 0x0000010EC2BB6A70: MetaC object at 0x0000010EC082F290>}\n",
      "元类 __call__ 被触发\n",
      "我不是 Cc 的实例\n"
     ]
    }
   ],
   "source": [
    "class MetaC(type):#继承自type\n",
    "    #__new__ 方法负责创建类对象（比如代码中的 Cc 类本身）。\n",
    "    # 必须返回一个类对象\n",
    "    def __new__(mcls, name, bases, attrs):\n",
    "        print('__new__')\n",
    "        print(f'mcls={mcls}\\nname={name}\\nbases={bases}\\nattrs={attrs}')\n",
    "        return type.__new__(mcls, name, bases, attrs)\n",
    "    def __init__(cls, name, bases, attrs):\n",
    "        print('__init__')\n",
    "        print(f'cls={cls}\\nname={name}\\nbases={bases}\\nattrs={attrs}')\n",
    "        type.__init__(cls,name, bases, attrs)\n",
    "class Cc(metaclass= MetaC):#在创建类的时候就触发MetaC\n",
    "    def __new__(cls):\n",
    "        print('__new__ in C!')\n",
    "        return super().__new__(cls)#这里继承的是默认的object\n",
    "    def __init__(self):\n",
    "        print('__init__ in C!')\n",
    "\n",
    "class MetaC(type):\n",
    "    def __call__(cls, *args, **kwargs):  # cls 是被实例化的类（如 Cc）\n",
    "        print(\"元类 __call__ 被触发\")\n",
    "        # 自定义创建逻辑：不调用 Cc 的 __new__，直接返回一个字符串\n",
    "        return \"我不是 Cc 的实例\"\n",
    "\n",
    "class Cc(metaclass=MetaC):\n",
    "    def __new__(cls):\n",
    "        print(\"Cc __new__\")\n",
    "        return super().__new__(cls)\n",
    "    def __init__(self):\n",
    "        print(\"Cc __init__\")\n",
    "\n",
    "obj = Cc()  # 触发 MetaC.__call__,元类实例化Cc,然后Cc()被调用触发开始\n",
    "print(obj)"
   ]
  },
  {
   "cell_type": "markdown",
   "id": "c6861e9b",
   "metadata": {},
   "source": [
    "类和对象（19）：\n",
    "    元类应用\n",
    "    第一情况__new__ 阶段：类尚未创建，只能通过修改 attrs 字典（类的 “蓝图”）来预设属性；\n",
    "    第二情况__init__ 阶段：类已经创建，必须直接操作类对象 cls 才能添加 / 修改属性，修改 attrs 字典无效。"
   ]
  },
  {
   "cell_type": "code",
   "execution_count": null,
   "id": "d7232e40",
   "metadata": {},
   "outputs": [
    {
     "data": {
      "text/plain": [
       "'fish'"
      ]
     },
     "execution_count": 97,
     "metadata": {},
     "output_type": "execute_result"
    }
   ],
   "source": [
    "#对类操作，example 属性\n",
    "class MetaC(type):\n",
    "    def __new__(mcls, name, bases, attrs):\n",
    "        #元类创建类对象的 “构建阶段”。此时类还未被创建，\n",
    "        # attrs 是一个存储类属性的字典（包含类中定义的方法、变量等）\n",
    "        attrs[\"author\"] = \"fish\"\n",
    "        return type.__new__(mcls, name, bases, attrs)\n",
    "class C(metaclass=MetaC):\n",
    "    pass\n",
    "class D(metaclass=MetaC):\n",
    "    pass\n",
    "c1 = C()\n",
    "c1.author# 访问 c1.author 时，实际取的是类属性 \n",
    "c2 = D()\n",
    "c2.author\n",
    "\n",
    "class MetaC(type):\n",
    "    def __init__(cls, name, bases, attrs):\n",
    "        #元类对已创建的类对象的 “初始化阶段”\n",
    "        cls.author = \"fish\"\n",
    "        type.__init__(cls, name, bases, attrs)\n",
    "class C(metaclass=MetaC):\n",
    "    pass\n",
    "class D(metaclass=MetaC):\n",
    "    pass\n",
    "c1 = C()\n",
    "c1.author\n",
    "c2 = D()\n",
    "c2.author\n"
   ]
  },
  {
   "cell_type": "code",
   "execution_count": null,
   "id": "278f0a82",
   "metadata": {},
   "outputs": [
    {
     "name": "stdout",
     "output_type": "stream",
     "text": [
      "{'name1': 'HELLO', 'name2': 'WORLD'}\n",
      "类方法直接访问运行\n",
      "静态方法直接访问运行\n"
     ]
    },
    {
     "data": {
      "text/plain": [
       "True"
      ]
     },
     "execution_count": 128,
     "metadata": {},
     "output_type": "execute_result"
    }
   ],
   "source": [
    "#对类名的定义规范做限制\n",
    "##example 限定首字母大写\n",
    "class MetaC(type):\n",
    "    def __init__(cls, name, bases, attrs):\n",
    "        if not name.istitle():\n",
    "            raise TypeError(\"类名必须大写\")\n",
    "        return type.__init__(cls, name, bases, attrs)\n",
    "class A(metaclass=MetaC):#必须大写\n",
    "    pass\n",
    "\n",
    "#example 修改对象的属性值\n",
    "#example 禁止位置参数\n",
    "## ex1\n",
    "class MetaC(type):\n",
    "    def __call__(cls, *args, **kwds):#在对象实例化过程进行\n",
    "        new_args = [each.upper() for each in args if isinstance(each,str)]\n",
    "        return type.__call__(cls, *new_args, **kwds)\n",
    "class C(metaclass=MetaC):\n",
    "    def __init__(self, name1, name2):\n",
    "        self.name1 = name1\n",
    "        self.name2 = name2\n",
    "c = C(\"hello\",\"world\") \n",
    "#原始args 是 (\"hello\",\"world\")\n",
    "print(c.__dict__)\n",
    "class MetaD(type):\n",
    "    def __call__(cls, *args, **kwds):#在对象实例化过程进行\n",
    "        if args:\n",
    "            raise TypeError('必须是位置参数')\n",
    "        return type.__call__(cls, *args, **kwds)\n",
    "class D(metaclass=MetaD):\n",
    "    def __init__(self, name):\n",
    "        self.name = name\n",
    "d = D(name ='Fishc')\n",
    "d.name\n",
    "\n",
    "#禁止一个类被实例化\n",
    "class NoInstance(type):\n",
    "    def __call__(cls, *args, **kwds):#一定要有这个拦截实例化过程\n",
    "        raise TypeError('不允许类实例化')\n",
    "class C(metaclass=NoInstance):\n",
    "    @classmethod\n",
    "    def class_ok(cls):\n",
    "        print('类方法直接访问运行')\n",
    "C.class_ok()\n",
    "class D(metaclass=NoInstance):\n",
    "    @staticmethod\n",
    "    def static_ok():\n",
    "        print('静态方法直接访问运行')\n",
    "D.static_ok()\n",
    "#只允许实例化一个对象\n",
    "class Onlymeata(type):\n",
    "    def __init__(cls, *args, **kwds):\n",
    "        cls.__instance = None\n",
    "    def __call__(cls, *args, **kwds):#一定要有这个拦截实例化过程\n",
    "        if cls.__instance is None:\n",
    "            cls.__instance = type.__call__(cls, *args, **kwds)\n",
    "            return cls.__instance\n",
    "        else:\n",
    "            return cls.__instance\n",
    "class O(metaclass=Onlymeata):\n",
    "    pass\n",
    "o = O()#触发元类 Onlymeata 的 __call__ 方法\n",
    "o1 = O()\n",
    "o is o1"
   ]
  },
  {
   "cell_type": "markdown",
   "id": "d7d1f375",
   "metadata": {},
   "source": [
    "类和对象（20）：\n",
    "    抽象基类：\n",
    "    1.不能直接被实例化，只能被继承使用\n",
    "    2.子类必须实现抽象基类中定义的抽象方法"
   ]
  },
  {
   "cell_type": "code",
   "execution_count": 14,
   "id": "4e321ed0",
   "metadata": {},
   "outputs": [
    {
     "name": "stdout",
     "output_type": "stream",
     "text": [
      "水果是banana\n",
      "Pipi\n",
      "5\n"
     ]
    }
   ],
   "source": [
    "#抽象基类统筹全局，功能分工给他人实现\n",
    "from abc import ABCMeta, abstractmethod\n",
    "class Fruit(metaclass=ABCMeta):\n",
    "    def __init__(self, name):\n",
    "        self.name = name\n",
    "    @abstractmethod\n",
    "    def good(self):\n",
    "        pass\n",
    "# f =Fruit(\"水果\")，必须被继承\n",
    "class C(Fruit):\n",
    "    def good(self):\n",
    "        print(f'水果是{self.name}')\n",
    "c = C(\"banana\")#C的类里必须重写good,否则也会报错\n",
    "c.good()\n",
    "\n",
    "#鸭子类型补充\n",
    "class Animal(metaclass=ABCMeta):\n",
    "    def __init__(self, name, age):\n",
    "        self.name = name\n",
    "        self.age = age\n",
    "    @abstractmethod\n",
    "    def say(self):\n",
    "        pass\n",
    "    @abstractmethod\n",
    "    def ok(self):\n",
    "        pass\n",
    "class Cat(Animal):\n",
    "    def say(self):\n",
    "        print(f'{self.name}')\n",
    "    def ok(self):\n",
    "        print(f'{self.age}')\n",
    "class Dog(Animal):\n",
    "    def say(self):\n",
    "        print(f'{self.name}')\n",
    "    def ok(self):\n",
    "        print(f'{self.age}')\n",
    "cat = Cat('Pipi', 5)\n",
    "dog = Dog('Coco', 6)\n",
    "def hi(x):\n",
    "    x.say()\n",
    "    x.ok()\n",
    "hi(cat)\n",
    "##如果子类里方法和父类对不上，会报错\n",
    "##比如Dog类里面变成 oka会报错下面注释内容\n",
    "#TypeError: Can't instantiate abstract class Dog without an implementation for abstract method 'ok'"
   ]
  },
  {
   "cell_type": "markdown",
   "id": "4b265a0a",
   "metadata": {},
   "source": [
    "模块和包（1）：\n",
    "    模块，代码打包手段\n",
    "    导入模块注意名字冲突\n",
    "    import module\n",
    "    from module import modlea\n",
    "    import module as md\n",
    "模块和包（2）：\n",
    "    包和模块调用\n",
    "    遏制 from ... import *的附加伤害,使用__all__(其还可以作用于包)\n",
    "    总结：\n",
    "        1.对模块来说，如果没有定义__all__属性，那么from ... import *将导入模块中所有东西\n",
    "        2.对包来说，如果没有定义__all__属性，那么from ... import *则不导入模块中任何模块"
   ]
  },
  {
   "cell_type": "code",
   "execution_count": null,
   "id": "a73d761c",
   "metadata": {},
   "outputs": [],
   "source": [
    "#if __name == \"__main__\"\n",
    "##从小甲鱼编程题，TC包、hello模块、FC包进行（2）锻炼"
   ]
  }
 ],
 "metadata": {
  "kernelspec": {
   "display_name": "base",
   "language": "python",
   "name": "python3"
  },
  "language_info": {
   "codemirror_mode": {
    "name": "ipython",
    "version": 3
   },
   "file_extension": ".py",
   "mimetype": "text/x-python",
   "name": "python",
   "nbconvert_exporter": "python",
   "pygments_lexer": "ipython3",
   "version": "3.12.4"
  }
 },
 "nbformat": 4,
 "nbformat_minor": 5
}
